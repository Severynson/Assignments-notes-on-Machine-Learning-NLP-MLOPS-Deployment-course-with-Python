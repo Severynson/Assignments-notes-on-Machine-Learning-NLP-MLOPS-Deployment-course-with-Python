{
 "cells": [
  {
   "cell_type": "markdown",
   "metadata": {},
   "source": [
    "## Common errors"
   ]
  },
  {
   "cell_type": "code",
   "execution_count": 8,
   "metadata": {},
   "outputs": [
    {
     "name": "stdout",
     "output_type": "stream",
     "text": [
      "hello100\n",
      "200\n"
     ]
    }
   ],
   "source": [
    "\n",
    "## TypeError, not going to work.\n",
    "# result = \"hello\" + 100\n",
    "# print(result)\n",
    "\n",
    "# however ...\n",
    "\n",
    "result = \"hello\" + str(100)\n",
    "print(result)\n",
    "\n",
    "## Also a TypeError, not going to work.\n",
    "# result = 100 + '100'\n",
    "# print(result)\n",
    "\n",
    "# however ...\n",
    "\n",
    "result = 100 + int('100')\n",
    "print(result)"
   ]
  }
 ],
 "metadata": {
  "kernelspec": {
   "display_name": "base",
   "language": "python",
   "name": "python3"
  },
  "language_info": {
   "codemirror_mode": {
    "name": "ipython",
    "version": 3
   },
   "file_extension": ".py",
   "mimetype": "text/x-python",
   "name": "python",
   "nbconvert_exporter": "python",
   "pygments_lexer": "ipython3",
   "version": "3.12.4"
  }
 },
 "nbformat": 4,
 "nbformat_minor": 2
}
