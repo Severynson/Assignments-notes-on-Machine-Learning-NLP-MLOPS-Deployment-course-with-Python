{
 "cells": [
  {
   "cell_type": "markdown",
   "metadata": {},
   "source": [
    "## Understanding variables types\n",
    "## Python is a dynamically typed language, which means that the type of a variable is determined at runtime."
   ]
  },
  {
   "cell_type": "code",
   "execution_count": 18,
   "metadata": {},
   "outputs": [
    {
     "name": "stdout",
     "output_type": "stream",
     "text": [
      "<class 'int'>\n"
     ]
    }
   ],
   "source": [
    "age = 25 # int\n",
    "height = 170.5 # float\n",
    "name = \"Severyn\" # str\n",
    "is_student = True # bool\n",
    "\n",
    "print(type(age))"
   ]
  },
  {
   "cell_type": "markdown",
   "metadata": {},
   "source": [
    "## Type checking & conversion"
   ]
  },
  {
   "cell_type": "code",
   "execution_count": 21,
   "metadata": {},
   "outputs": [
    {
     "name": "stdout",
     "output_type": "stream",
     "text": [
      "25\n",
      "<class 'str'>\n"
     ]
    }
   ],
   "source": [
    "type(height)\n",
    "\n",
    "## Type conversion\n",
    "age_str = str(age)\n",
    "\n",
    "print(age_str)\n",
    "print(type(age_str))\n",
    "\n",
    "## Variable naming conventions\n"
   ]
  },
  {
   "cell_type": "code",
   "execution_count": 22,
   "metadata": {},
   "outputs": [
    {
     "name": "stdout",
     "output_type": "stream",
     "text": [
      "<class 'int'>\n"
     ]
    }
   ],
   "source": [
    "age = '25'\n",
    "print(type(int(age)))"
   ]
  },
  {
   "cell_type": "markdown",
   "metadata": {},
   "source": [
    "## Loosing nubers after decimal point\n"
   ]
  },
  {
   "cell_type": "code",
   "execution_count": 27,
   "metadata": {},
   "outputs": [
    {
     "name": "stdout",
     "output_type": "stream",
     "text": [
      "<class 'float'>\n",
      "170.5\n",
      "170\n",
      "170.0\n"
     ]
    }
   ],
   "source": [
    "height = 170.5\n",
    "print(type(height))\n",
    "\n",
    "print(height)\n",
    "\n",
    "print(int(height))\n",
    "\n",
    "print(float(int(height)))\n"
   ]
  },
  {
   "cell_type": "markdown",
   "metadata": {},
   "source": [
    "## Dynamic typing\n",
    "### Python allows the type of a variable to change during the execution of a program.\n"
   ]
  },
  {
   "cell_type": "code",
   "execution_count": 29,
   "metadata": {},
   "outputs": [
    {
     "name": "stdout",
     "output_type": "stream",
     "text": [
      "25 <class 'int'>\n",
      "25 <class 'str'>\n",
      "25.5 <class 'float'>\n",
      "Hello <class 'str'>\n",
      "True <class 'bool'>\n"
     ]
    }
   ],
   "source": [
    "var = 25\n",
    "print(var, type(var))\n",
    "\n",
    "var = '25'\n",
    "print(var, type(var))\n",
    "\n",
    "var = 25.5\n",
    "print(var, type(var))\n",
    "\n",
    "var = 'Hello'\n",
    "print(var, type(var))\n",
    "\n",
    "var = True\n",
    "print(var, type(var))\n"
   ]
  },
  {
   "cell_type": "markdown",
   "metadata": {},
   "source": [
    "## Input type"
   ]
  },
  {
   "cell_type": "code",
   "execution_count": 31,
   "metadata": {},
   "outputs": [
    {
     "name": "stdout",
     "output_type": "stream",
     "text": [
      "21 <class 'str'>\n",
      "21 <class 'int'>\n"
     ]
    }
   ],
   "source": [
    "age = input('Enter your age: ')\n",
    "print(age, type(age))\n",
    "\n",
    "age = int(input('Enter your age: '))\n",
    "print(age, type(age))\n",
    "\n"
   ]
  }
 ],
 "metadata": {
  "kernelspec": {
   "display_name": "base",
   "language": "python",
   "name": "python3"
  },
  "language_info": {
   "codemirror_mode": {
    "name": "ipython",
    "version": 3
   },
   "file_extension": ".py",
   "mimetype": "text/x-python",
   "name": "python",
   "nbconvert_exporter": "python",
   "pygments_lexer": "ipython3",
   "version": "3.12.4"
  }
 },
 "nbformat": 4,
 "nbformat_minor": 2
}
