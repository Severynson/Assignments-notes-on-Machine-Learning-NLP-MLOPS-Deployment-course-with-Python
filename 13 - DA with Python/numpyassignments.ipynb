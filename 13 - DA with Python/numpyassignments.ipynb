{
 "cells": [
  {
   "cell_type": "markdown",
   "metadata": {},
   "source": [
    "# Module: NumPy Assignments\n",
    "## Lesson: NumPy\n",
    "### Assignment 1: Array Creation and Manipulation\n",
    "\n",
    "1. Create a NumPy array of shape (5, 5) filled with random integers between 1 and 20. Replace all the elements in the third column with 1.\n",
    "2. Create a NumPy array of shape (4, 4) with values from 1 to 16. Replace the diagonal elements with 0.\n",
    "\n",
    "### Assignment 2: Array Indexing and Slicing\n",
    "\n",
    "1. Create a NumPy array of shape (6, 6) with values from 1 to 36. Extract the sub-array consisting of the 3rd to 5th rows and 2nd to 4th columns.\n",
    "2. Create a NumPy array of shape (5, 5) with random integers. Extract the elements on the border.\n",
    "\n",
    "### Assignment 3: Array Operations\n",
    "\n",
    "1. Create two NumPy arrays of shape (3, 4) filled with random integers. Perform element-wise addition, subtraction, multiplication, and division.\n",
    "2. Create a NumPy array of shape (4, 4) with values from 1 to 16. Compute the row-wise and column-wise sum.\n",
    "\n",
    "### Assignment 4: Statistical Operations\n",
    "\n",
    "1. Create a NumPy array of shape (5, 5) filled with random integers. Compute the mean, median, standard deviation, and variance of the array.\n",
    "2. Create a NumPy array of shape (3, 3) with values from 1 to 9. Normalize the array (i.e., scale the values to have a mean of 0 and a standard deviation of 1).\n",
    "\n",
    "### Assignment 5: Broadcasting\n",
    "\n",
    "1. Create a NumPy array of shape (3, 3) filled with random integers. Add a 1D array of shape (3,) to each row of the 2D array using broadcasting.\n",
    "2. Create a NumPy array of shape (4, 4) filled with random integers. Subtract a 1D array of shape (4,) from each column of the 2D array using broadcasting.\n",
    "\n",
    "### Assignment 6: Linear Algebra\n",
    "\n",
    "1. Create a NumPy array of shape (3, 3) representing a matrix. Compute its determinant, inverse, and eigenvalues.\n",
    "2. Create two NumPy arrays of shape (2, 3) and (3, 2). Perform matrix multiplication on these arrays.\n",
    "\n",
    "### Assignment 7: Advanced Array Manipulation\n",
    "\n",
    "1. Create a NumPy array of shape (3, 3) with values from 1 to 9. Reshape the array to shape (1, 9) and then to shape (9, 1).\n",
    "2. Create a NumPy array of shape (5, 5) filled with random integers. Flatten the array and then reshape it back to (5, 5).\n",
    "\n",
    "### Assignment 8: Fancy Indexing and Boolean Indexing\n",
    "\n",
    "1. Create a NumPy array of shape (5, 5) filled with random integers. Use fancy indexing to extract the elements at the corners of the array.\n",
    "2. Create a NumPy array of shape (4, 4) filled with random integers. Use boolean indexing to set all elements greater than 10 to 10.\n",
    "\n",
    "### Assignment 9: Structured Arrays\n",
    "\n",
    "1. Create a structured array with fields 'name' (string), 'age' (integer), and 'weight' (float). Add some data and sort the array by age.\n",
    "2. Create a structured array with fields 'x' and 'y' (both integers). Add some data and compute the Euclidean distance between each pair of points.\n",
    "\n",
    "### Assignment 10: Masked Arrays\n",
    "\n",
    "1. Create a masked array of shape (4, 4) with random integers and mask the elements greater than 10. Compute the sum of the unmasked elements.\n",
    "2. Create a masked array of shape (3, 3) with random integers and mask the diagonal elements. Replace the masked elements with the mean of the unmasked elements."
   ]
  },
  {
   "cell_type": "markdown",
   "id": "98359e2c",
   "metadata": {},
   "source": [
    "## Assignment 1"
   ]
  },
  {
   "cell_type": "code",
   "execution_count": 17,
   "metadata": {},
   "outputs": [
    {
     "data": {
      "text/plain": [
       "array([[14, 16,  1, 18, 15],\n",
       "       [ 1, 17,  1, 17,  9],\n",
       "       [ 3,  8,  1,  6,  4],\n",
       "       [18,  5,  1,  5, 20],\n",
       "       [ 5,  2,  1, 14, 20]])"
      ]
     },
     "execution_count": 17,
     "metadata": {},
     "output_type": "execute_result"
    }
   ],
   "source": [
    "import numpy as np\n",
    "\n",
    "# 1\n",
    "arr = np.random.randint(1, 21, size=(5,5))\n",
    "arr[:, 2] = 1\n",
    "arr\n"
   ]
  },
  {
   "cell_type": "code",
   "execution_count": 18,
   "id": "f7ac2179",
   "metadata": {},
   "outputs": [
    {
     "data": {
      "text/plain": [
       "array([[ 1,  2,  3,  4],\n",
       "       [ 5,  6,  7,  8],\n",
       "       [ 9, 10, 11, 12],\n",
       "       [13, 14, 15, 16]])"
      ]
     },
     "execution_count": 18,
     "metadata": {},
     "output_type": "execute_result"
    }
   ],
   "source": [
    "# 2\n",
    "arr = np.arange(1, 17).reshape(4,4)\n",
    "arr"
   ]
  },
  {
   "cell_type": "markdown",
   "id": "291dde10",
   "metadata": {},
   "source": [
    "## Assignment 2"
   ]
  },
  {
   "cell_type": "code",
   "execution_count": 26,
   "id": "ee3788bb",
   "metadata": {},
   "outputs": [
    {
     "name": "stdout",
     "output_type": "stream",
     "text": [
      "Original:\n"
     ]
    },
    {
     "data": {
      "text/plain": [
       "array([[ 1,  2,  3,  4,  5,  6],\n",
       "       [ 7,  8,  9, 10, 11, 12],\n",
       "       [13, 14, 15, 16, 17, 18],\n",
       "       [19, 20, 21, 22, 23, 24],\n",
       "       [25, 26, 27, 28, 29, 30],\n",
       "       [31, 32, 33, 34, 35, 36]])"
      ]
     },
     "execution_count": 26,
     "metadata": {},
     "output_type": "execute_result"
    }
   ],
   "source": [
    "# 1\n",
    "arr = np.arange(1, 37).reshape(6,6)\n",
    "print(\"Original:\")\n",
    "arr"
   ]
  },
  {
   "cell_type": "code",
   "execution_count": 27,
   "id": "3f86e524",
   "metadata": {},
   "outputs": [
    {
     "data": {
      "text/plain": [
       "array([[14, 15, 16],\n",
       "       [20, 21, 22],\n",
       "       [26, 27, 28]])"
      ]
     },
     "execution_count": 27,
     "metadata": {},
     "output_type": "execute_result"
    }
   ],
   "source": [
    "arr[2:5, 1:4]"
   ]
  },
  {
   "cell_type": "code",
   "execution_count": 34,
   "id": "3362f9b0",
   "metadata": {},
   "outputs": [
    {
     "name": "stdout",
     "output_type": "stream",
     "text": [
      "Original:\n"
     ]
    },
    {
     "data": {
      "text/plain": [
       "array([[ 4136, 71144, 67585,  8335, 34669],\n",
       "       [18088, 98011, 42706, 98029, 93508],\n",
       "       [80649, 19643, 53899, 56350, 87749],\n",
       "       [18417, 47770, 28787,  7442, 34707],\n",
       "       [98317,  4918, 74623, 98596, 85480]])"
      ]
     },
     "execution_count": 34,
     "metadata": {},
     "output_type": "execute_result"
    }
   ],
   "source": [
    "# 2\n",
    "print(\"Original:\")\n",
    "arr = np.random.randint(100000, size=(5,5))\n",
    "arr"
   ]
  },
  {
   "cell_type": "code",
   "execution_count": 44,
   "id": "45b8553c",
   "metadata": {},
   "outputs": [
    {
     "data": {
      "text/plain": [
       "array([ 4136, 71144, 67585,  8335, 34669, 18088, 80649, 18417, 98317,\n",
       "        4918, 74623, 98596, 85480, 93508, 87749, 34707])"
      ]
     },
     "execution_count": 44,
     "metadata": {},
     "output_type": "execute_result"
    }
   ],
   "source": [
    "top_border = arr[0]\n",
    "bottom_border = arr[-1]\n",
    "left_border = arr[1:-1,0]\n",
    "right_border = arr[1:-1,-1]\n",
    "np.concatenate([top_border, left_border, bottom_border, right_border])"
   ]
  },
  {
   "cell_type": "markdown",
   "id": "3a31014a",
   "metadata": {},
   "source": [
    "## Assignment 3"
   ]
  },
  {
   "cell_type": "code",
   "execution_count": 46,
   "id": "c751bcd7",
   "metadata": {},
   "outputs": [
    {
     "name": "stdout",
     "output_type": "stream",
     "text": [
      "Addition: [[141  84  75 122]\n",
      " [130 127  99  38]\n",
      " [121  85 137  33]]\n",
      "Subtraction: [[ 43   2 -35  26]\n",
      " [ 54  45  85 -30]\n",
      " [ 65 -49 -55  -7]]\n",
      "Multiplication: [[4508 1763 1100 3552]\n",
      " [3496 3526  644  136]\n",
      " [2604 1206 3936  260]]\n",
      "Division: [[ 1.87755102  1.04878049  0.36363636  1.54166667]\n",
      " [ 2.42105263  2.09756098 13.14285714  0.11764706]\n",
      " [ 3.32142857  0.26865672  0.42708333  0.65      ]]\n"
     ]
    }
   ],
   "source": [
    "# 1\n",
    "arr1 = np.random.randint(1, 100, size=(3, 4))\n",
    "arr2 = np.random.randint(1, 100, size=(3, 4))\n",
    "\n",
    "print(\"Addition:\", arr1 + arr2)\n",
    "print(\"Subtraction:\", arr1 - arr2)\n",
    "print(\"Multiplication:\", arr1 * arr2)\n",
    "print(\"Division:\", arr1 / arr2)"
   ]
  },
  {
   "cell_type": "code",
   "execution_count": 52,
   "id": "984612fc",
   "metadata": {},
   "outputs": [
    {
     "data": {
      "text/plain": [
       "array([[ 1,  2,  3,  4],\n",
       "       [ 5,  6,  7,  8],\n",
       "       [ 9, 10, 11, 12],\n",
       "       [13, 14, 15, 16]])"
      ]
     },
     "execution_count": 52,
     "metadata": {},
     "output_type": "execute_result"
    }
   ],
   "source": [
    "# 2\n",
    "arr = np.arange(1,17).reshape(4,4)\n",
    "arr"
   ]
  },
  {
   "cell_type": "code",
   "execution_count": null,
   "id": "8d373c7f",
   "metadata": {},
   "outputs": [
    {
     "data": {
      "text/plain": [
       "array([10, 26, 42, 58])"
      ]
     },
     "execution_count": 53,
     "metadata": {},
     "output_type": "execute_result"
    }
   ],
   "source": [
    "# row-wise sum\n",
    "np.sum(arr, axis=1)"
   ]
  },
  {
   "cell_type": "code",
   "execution_count": null,
   "id": "326e2aed",
   "metadata": {},
   "outputs": [
    {
     "data": {
      "text/plain": [
       "array([28, 32, 36, 40])"
      ]
     },
     "execution_count": 54,
     "metadata": {},
     "output_type": "execute_result"
    }
   ],
   "source": [
    "#column-wise sum\n",
    "np.sum(arr, axis=0)"
   ]
  },
  {
   "cell_type": "markdown",
   "id": "3f537712",
   "metadata": {},
   "source": [
    "## Assignment 4"
   ]
  },
  {
   "cell_type": "code",
   "execution_count": null,
   "id": "b26fffac",
   "metadata": {},
   "outputs": [
    {
     "data": {
      "text/plain": [
       "array([[86, 85, 70, 40, 66],\n",
       "       [21, 19, 83, 44, 14],\n",
       "       [95,  6, 12, 93, 98],\n",
       "       [42, 60, 71, 18, 92],\n",
       "       [54, 95, 68, 89, 12]])"
      ]
     },
     "execution_count": 55,
     "metadata": {},
     "output_type": "execute_result"
    }
   ],
   "source": [
    "# 1\n",
    "arr = np.random.randint(1,100, size=(5,5))"
   ]
  },
  {
   "cell_type": "code",
   "execution_count": 61,
   "id": "41cd0290",
   "metadata": {},
   "outputs": [
    {
     "name": "stdout",
     "output_type": "stream",
     "text": [
      "Mean: 8.5\n",
      "Median: 8.5\n",
      "Standard Deviation: 4.6097722286464435\n",
      "Variance: 21.25\n"
     ]
    }
   ],
   "source": [
    "print(\"Mean:\", np.mean(arr))\n",
    "print(\"Median:\", np.median(arr))\n",
    "print(\"Standard Deviation:\", np.std(arr))\n",
    "print(\"Variance:\", np.var(arr))"
   ]
  },
  {
   "cell_type": "code",
   "execution_count": 65,
   "id": "a60d7493",
   "metadata": {},
   "outputs": [
    {
     "name": "stdout",
     "output_type": "stream",
     "text": [
      "Original:\n"
     ]
    },
    {
     "data": {
      "text/plain": [
       "array([[1, 2, 3],\n",
       "       [4, 5, 6],\n",
       "       [7, 8, 9]])"
      ]
     },
     "execution_count": 65,
     "metadata": {},
     "output_type": "execute_result"
    }
   ],
   "source": [
    "# 2\n",
    "arr = np.arange(1, 10).reshape(3, 3)\n",
    "print(\"Original:\")\n",
    "arr"
   ]
  },
  {
   "cell_type": "code",
   "execution_count": 67,
   "id": "894c6201",
   "metadata": {},
   "outputs": [
    {
     "name": "stdout",
     "output_type": "stream",
     "text": [
      "Normalized:\n"
     ]
    },
    {
     "data": {
      "text/plain": [
       "array([[-1.54919334, -1.161895  , -0.77459667],\n",
       "       [-0.38729833,  0.        ,  0.38729833],\n",
       "       [ 0.77459667,  1.161895  ,  1.54919334]])"
      ]
     },
     "execution_count": 67,
     "metadata": {},
     "output_type": "execute_result"
    }
   ],
   "source": [
    "print(\"Normalized:\")\n",
    "arr = (arr - np.mean(arr)) / np.std(arr)\n",
    "arr"
   ]
  },
  {
   "cell_type": "markdown",
   "id": "675f773f",
   "metadata": {},
   "source": [
    "## Assignment 5"
   ]
  },
  {
   "cell_type": "code",
   "execution_count": 69,
   "id": "ccd21341",
   "metadata": {},
   "outputs": [
    {
     "data": {
      "text/plain": [
       "array([[91, 99, 95],\n",
       "       [32, 40,  2],\n",
       "       [27, 41, 90]])"
      ]
     },
     "execution_count": 69,
     "metadata": {},
     "output_type": "execute_result"
    }
   ],
   "source": [
    "# 1\n",
    "arr = np.random.randint(1,100, size=(3,3))\n",
    "arr"
   ]
  },
  {
   "cell_type": "code",
   "execution_count": 80,
   "id": "ed955f88",
   "metadata": {},
   "outputs": [
    {
     "data": {
      "text/plain": [
       "array([[1, 2, 3]])"
      ]
     },
     "execution_count": 80,
     "metadata": {},
     "output_type": "execute_result"
    }
   ],
   "source": [
    "arr_to_add = np.arange(1, 4).reshape(1, 3)\n",
    "arr_to_add"
   ]
  },
  {
   "cell_type": "code",
   "execution_count": 81,
   "id": "3d5a300b",
   "metadata": {},
   "outputs": [
    {
     "data": {
      "text/plain": [
       "array([[ 92, 101,  98],\n",
       "       [ 33,  42,   5],\n",
       "       [ 28,  43,  93]])"
      ]
     },
     "execution_count": 81,
     "metadata": {},
     "output_type": "execute_result"
    }
   ],
   "source": [
    "arr + arr_to_add"
   ]
  },
  {
   "cell_type": "code",
   "execution_count": 82,
   "id": "51a5c0b5",
   "metadata": {},
   "outputs": [
    {
     "data": {
      "text/plain": [
       "array([[14, 12, 21,  1],\n",
       "       [92, 12, 38, 82],\n",
       "       [10, 53, 78, 72],\n",
       "       [26, 53, 19, 96]])"
      ]
     },
     "execution_count": 82,
     "metadata": {},
     "output_type": "execute_result"
    }
   ],
   "source": [
    "# 2\n",
    "arr = np.random.randint(1, 100, size=(4,4))\n",
    "arr"
   ]
  },
  {
   "cell_type": "code",
   "execution_count": 90,
   "id": "3ba2db72",
   "metadata": {},
   "outputs": [
    {
     "data": {
      "text/plain": [
       "array([28, 46, 45, 73])"
      ]
     },
     "execution_count": 90,
     "metadata": {},
     "output_type": "execute_result"
    }
   ],
   "source": [
    "arr_to_subtract = np.random.randint(1, 100, size=(4,))\n",
    "arr_to_subtract"
   ]
  },
  {
   "cell_type": "code",
   "execution_count": 91,
   "id": "f640968b",
   "metadata": {},
   "outputs": [
    {
     "data": {
      "text/plain": [
       "array([[-14, -16,  -7, -27],\n",
       "       [ 46, -34,  -8,  36],\n",
       "       [-35,   8,  33,  27],\n",
       "       [-47, -20, -54,  23]])"
      ]
     },
     "execution_count": 91,
     "metadata": {},
     "output_type": "execute_result"
    }
   ],
   "source": [
    "arr - arr_to_subtract[:, np.newaxis]"
   ]
  },
  {
   "cell_type": "markdown",
   "id": "ba721ddc",
   "metadata": {},
   "source": [
    "## Assignment 6"
   ]
  },
  {
   "cell_type": "code",
   "execution_count": 93,
   "id": "9d59e291",
   "metadata": {},
   "outputs": [
    {
     "name": "stdout",
     "output_type": "stream",
     "text": [
      "Original Matrix:\n"
     ]
    },
    {
     "data": {
      "text/plain": [
       "array([[82, 55, 94],\n",
       "       [56, 50, 19],\n",
       "       [99, 18, 81]])"
      ]
     },
     "execution_count": 93,
     "metadata": {},
     "output_type": "execute_result"
    }
   ],
   "source": [
    "matrix = np.random.randint(1, 100, size=(3,3))\n",
    "print(\"Original Matrix:\")\n",
    "matrix"
   ]
  },
  {
   "cell_type": "code",
   "execution_count": null,
   "id": "e86cf10e",
   "metadata": {},
   "outputs": [
    {
     "data": {
      "text/plain": [
       "-212516.99999999985"
      ]
     },
     "execution_count": 94,
     "metadata": {},
     "output_type": "execute_result"
    }
   ],
   "source": [
    "# determinant\n",
    "np.linalg.det(matrix)"
   ]
  },
  {
   "cell_type": "code",
   "execution_count": 95,
   "id": "c46dcba0",
   "metadata": {},
   "outputs": [
    {
     "data": {
      "text/plain": [
       "array([[-0.01744802,  0.01300131,  0.01719862],\n",
       "       [ 0.01249312,  0.01253547, -0.0174386 ],\n",
       "       [ 0.0185491 , -0.01867615, -0.00479962]])"
      ]
     },
     "execution_count": 95,
     "metadata": {},
     "output_type": "execute_result"
    }
   ],
   "source": [
    "# Inverse\n",
    "np.linalg.inv(matrix)"
   ]
  },
  {
   "cell_type": "code",
   "execution_count": 96,
   "id": "12e45a90",
   "metadata": {},
   "outputs": [
    {
     "data": {
      "text/plain": [
       "array([197.05258915, -25.82065174,  41.76806258])"
      ]
     },
     "execution_count": 96,
     "metadata": {},
     "output_type": "execute_result"
    }
   ],
   "source": [
    "# Eigenvalues\n",
    "np.linalg.eigvals(matrix)"
   ]
  },
  {
   "cell_type": "code",
   "execution_count": 105,
   "id": "9e636bc5",
   "metadata": {},
   "outputs": [
    {
     "data": {
      "text/plain": [
       "array([[1, 2, 3],\n",
       "       [4, 5, 6]])"
      ]
     },
     "execution_count": 105,
     "metadata": {},
     "output_type": "execute_result"
    }
   ],
   "source": [
    "# 2\n",
    "matrix1 = np.arange(1,7).reshape(2,3)\n",
    "matrix1"
   ]
  },
  {
   "cell_type": "code",
   "execution_count": 106,
   "id": "015e0af5",
   "metadata": {},
   "outputs": [
    {
     "data": {
      "text/plain": [
       "array([[6, 5],\n",
       "       [4, 3],\n",
       "       [2, 1]])"
      ]
     },
     "execution_count": 106,
     "metadata": {},
     "output_type": "execute_result"
    }
   ],
   "source": [
    "matrix2 = np.arange(1,7)[::-1].reshape(3,2)\n",
    "matrix2"
   ]
  },
  {
   "cell_type": "code",
   "execution_count": 107,
   "id": "5f318d8f",
   "metadata": {},
   "outputs": [
    {
     "data": {
      "text/plain": [
       "array([[20, 14],\n",
       "       [56, 41]])"
      ]
     },
     "execution_count": 107,
     "metadata": {},
     "output_type": "execute_result"
    }
   ],
   "source": [
    "np.dot(matrix1, matrix2)"
   ]
  },
  {
   "cell_type": "markdown",
   "id": "4e14a7cb",
   "metadata": {},
   "source": [
    "## Assignment 7"
   ]
  },
  {
   "cell_type": "code",
   "execution_count": null,
   "id": "13149604",
   "metadata": {},
   "outputs": [
    {
     "data": {
      "text/plain": [
       "array([[1, 2, 3],\n",
       "       [4, 5, 6],\n",
       "       [7, 8, 9]])"
      ]
     },
     "execution_count": 113,
     "metadata": {},
     "output_type": "execute_result"
    }
   ],
   "source": [
    "# 1\n",
    "arr = np.arange(1,10).reshape(3,3)\n",
    "arr"
   ]
  },
  {
   "cell_type": "code",
   "execution_count": 114,
   "id": "c2857cfb",
   "metadata": {},
   "outputs": [
    {
     "data": {
      "text/plain": [
       "array([[1, 2, 3, 4, 5, 6, 7, 8, 9]])"
      ]
     },
     "execution_count": 114,
     "metadata": {},
     "output_type": "execute_result"
    }
   ],
   "source": [
    "arr.reshape(1,9)"
   ]
  },
  {
   "cell_type": "code",
   "execution_count": 115,
   "id": "f3fe8bf6",
   "metadata": {},
   "outputs": [
    {
     "data": {
      "text/plain": [
       "array([[1],\n",
       "       [2],\n",
       "       [3],\n",
       "       [4],\n",
       "       [5],\n",
       "       [6],\n",
       "       [7],\n",
       "       [8],\n",
       "       [9]])"
      ]
     },
     "execution_count": 115,
     "metadata": {},
     "output_type": "execute_result"
    }
   ],
   "source": [
    "arr.reshape(9,1)"
   ]
  },
  {
   "cell_type": "code",
   "execution_count": null,
   "id": "f87f09f8",
   "metadata": {},
   "outputs": [
    {
     "data": {
      "text/plain": [
       "array([[97, 16,  4, 99, 99],\n",
       "       [52,  9,  8, 93, 52],\n",
       "       [57,  8, 17, 93, 46],\n",
       "       [21, 13, 48, 60, 85],\n",
       "       [63, 48, 93,  1, 69]])"
      ]
     },
     "execution_count": 118,
     "metadata": {},
     "output_type": "execute_result"
    }
   ],
   "source": [
    "# 2\n",
    "arr = np.random.randint(1,100, size=(5,5))\n",
    "arr"
   ]
  },
  {
   "cell_type": "code",
   "execution_count": 121,
   "id": "e1b7c2ef",
   "metadata": {},
   "outputs": [
    {
     "data": {
      "text/plain": [
       "array([97, 16,  4, 99, 99, 52,  9,  8, 93, 52, 57,  8, 17, 93, 46, 21, 13,\n",
       "       48, 60, 85, 63, 48, 93,  1, 69])"
      ]
     },
     "execution_count": 121,
     "metadata": {},
     "output_type": "execute_result"
    }
   ],
   "source": [
    "arr = arr.flatten()\n",
    "arr"
   ]
  },
  {
   "cell_type": "code",
   "execution_count": 123,
   "id": "c99c6f5c",
   "metadata": {},
   "outputs": [
    {
     "data": {
      "text/plain": [
       "array([[97, 16,  4, 99, 99],\n",
       "       [52,  9,  8, 93, 52],\n",
       "       [57,  8, 17, 93, 46],\n",
       "       [21, 13, 48, 60, 85],\n",
       "       [63, 48, 93,  1, 69]])"
      ]
     },
     "execution_count": 123,
     "metadata": {},
     "output_type": "execute_result"
    }
   ],
   "source": [
    "arr.reshape(5,5)"
   ]
  },
  {
   "cell_type": "markdown",
   "id": "93508073",
   "metadata": {},
   "source": [
    "## Assignment 8"
   ]
  },
  {
   "cell_type": "code",
   "execution_count": 124,
   "id": "880abac1",
   "metadata": {},
   "outputs": [
    {
     "data": {
      "text/plain": [
       "array([[20, 39, 25, 64, 60],\n",
       "       [17, 60, 12, 68, 26],\n",
       "       [54,  5, 43, 91, 82],\n",
       "       [86, 79, 47, 73, 58],\n",
       "       [73, 28,  9, 69,  4]])"
      ]
     },
     "execution_count": 124,
     "metadata": {},
     "output_type": "execute_result"
    }
   ],
   "source": [
    "# 1\n",
    "arr = np.random.randint(1, 100, size=(5,5))\n",
    "arr\n"
   ]
  },
  {
   "cell_type": "code",
   "execution_count": 126,
   "id": "81c378c4",
   "metadata": {},
   "outputs": [
    {
     "data": {
      "text/plain": [
       "array([20, 60,  4, 73])"
      ]
     },
     "execution_count": 126,
     "metadata": {},
     "output_type": "execute_result"
    }
   ],
   "source": [
    "corners = arr[[0, 0, -1, -1], [0, -1, -1, 0]]\n",
    "corners"
   ]
  },
  {
   "cell_type": "code",
   "execution_count": 129,
   "id": "e98a9519",
   "metadata": {},
   "outputs": [
    {
     "name": "stdout",
     "output_type": "stream",
     "text": [
      "Original:\n"
     ]
    },
    {
     "data": {
      "text/plain": [
       "array([[47, 70, 24, 19],\n",
       "       [94,  1, 86, 74],\n",
       "       [84, 83,  8, 18],\n",
       "       [33, 30, 93, 57]])"
      ]
     },
     "execution_count": 129,
     "metadata": {},
     "output_type": "execute_result"
    }
   ],
   "source": [
    "# 2\n",
    "arr = np.random.randint(1, 100, size=(4,4))\n",
    "print(\"Original:\")\n",
    "arr"
   ]
  },
  {
   "cell_type": "code",
   "execution_count": 130,
   "id": "56b9d3f0",
   "metadata": {},
   "outputs": [
    {
     "data": {
      "text/plain": [
       "array([[10, 10, 10, 10],\n",
       "       [10,  1, 10, 10],\n",
       "       [10, 10,  8, 10],\n",
       "       [10, 10, 10, 10]])"
      ]
     },
     "execution_count": 130,
     "metadata": {},
     "output_type": "execute_result"
    }
   ],
   "source": [
    "arr[arr > 10] = 10\n",
    "arr"
   ]
  },
  {
   "cell_type": "markdown",
   "id": "72c588e3",
   "metadata": {},
   "source": [
    "## Assignment 9"
   ]
  },
  {
   "cell_type": "code",
   "execution_count": 140,
   "id": "f66350d5",
   "metadata": {},
   "outputs": [
    {
     "data": {
      "text/plain": [
       "array([('James', 29, 78.8), ('Amelia', 28, 65.4), ('Olivia', 31, 68.9)],\n",
       "      dtype=[('name', '<U10'), ('age', '<i4'), ('weight', '<f4')])"
      ]
     },
     "execution_count": 140,
     "metadata": {},
     "output_type": "execute_result"
    }
   ],
   "source": [
    "# 1\n",
    "data_type = [(\"name\", 'U10'), (\"age\", 'i4'), ('weight', 'f4')]\n",
    "data = [( 'James', 29, 78.8), ('Amelia', 28, 65.4), ('Olivia', 31, 68.9)]\n",
    "data_arr = np.array(data, dtype = data_type)\n",
    "data_arr"
   ]
  },
  {
   "cell_type": "code",
   "execution_count": 141,
   "id": "80c02924",
   "metadata": {},
   "outputs": [
    {
     "data": {
      "text/plain": [
       "array([('Amelia', 28, 65.4), ('James', 29, 78.8), ('Olivia', 31, 68.9)],\n",
       "      dtype=[('name', '<U10'), ('age', '<i4'), ('weight', '<f4')])"
      ]
     },
     "execution_count": 141,
     "metadata": {},
     "output_type": "execute_result"
    }
   ],
   "source": [
    "np.sort(data_arr, order='age')"
   ]
  },
  {
   "cell_type": "code",
   "execution_count": 148,
   "id": "1e576008",
   "metadata": {},
   "outputs": [
    {
     "data": {
      "text/plain": [
       "array([(1, 2), (3, 4), (5, 6)], dtype=[('x', '<i4'), ('y', '<i4')])"
      ]
     },
     "execution_count": 148,
     "metadata": {},
     "output_type": "execute_result"
    }
   ],
   "source": [
    "# 2\n",
    "data_type = [('x', 'i4'), ('y', 'i4')]\n",
    "data = [(1, 2), (3, 4), (5, 6)]\n",
    "data_arr = np.array(data, dtype=data_type)\n",
    "data_arr"
   ]
  },
  {
   "cell_type": "code",
   "execution_count": 150,
   "id": "25da1fd0",
   "metadata": {},
   "outputs": [
    {
     "data": {
      "text/plain": [
       "array([[0.        , 2.82842712, 5.65685425],\n",
       "       [2.82842712, 0.        , 2.82842712],\n",
       "       [5.65685425, 2.82842712, 0.        ]])"
      ]
     },
     "execution_count": 150,
     "metadata": {},
     "output_type": "execute_result"
    }
   ],
   "source": [
    "euc_dist = np.sqrt((data_arr['x'][:, np.newaxis] - data_arr['x'])**2 + (data_arr['y'][:, np.newaxis] - data_arr['y'])**2)\n",
    "euc_dist"
   ]
  },
  {
   "cell_type": "markdown",
   "id": "74e03534",
   "metadata": {},
   "source": [
    "## Assignment 10"
   ]
  },
  {
   "cell_type": "code",
   "execution_count": 152,
   "id": "5cdf112f",
   "metadata": {},
   "outputs": [
    {
     "data": {
      "text/plain": [
       "array([[ 8, 23, 25, 26],\n",
       "       [13, 25, 22, 21],\n",
       "       [19,  8, 14, 18],\n",
       "       [29, 24, 12, 18]])"
      ]
     },
     "execution_count": 152,
     "metadata": {},
     "output_type": "execute_result"
    }
   ],
   "source": [
    "arr = np.random.randint(1, 30, size=(4, 4))\n",
    "arr"
   ]
  },
  {
   "cell_type": "code",
   "execution_count": 153,
   "id": "17519e57",
   "metadata": {},
   "outputs": [
    {
     "data": {
      "text/plain": [
       "masked_array(\n",
       "  data=[[8, --, --, --],\n",
       "        [--, --, --, --],\n",
       "        [--, 8, --, --],\n",
       "        [--, --, --, --]],\n",
       "  mask=[[False,  True,  True,  True],\n",
       "        [ True,  True,  True,  True],\n",
       "        [ True, False,  True,  True],\n",
       "        [ True,  True,  True,  True]],\n",
       "  fill_value=999999)"
      ]
     },
     "execution_count": 153,
     "metadata": {},
     "output_type": "execute_result"
    }
   ],
   "source": [
    "masked_arr = np.ma.masked_greater(arr, 10)\n",
    "masked_arr"
   ]
  },
  {
   "cell_type": "code",
   "execution_count": 156,
   "id": "729ec759",
   "metadata": {},
   "outputs": [
    {
     "data": {
      "text/plain": [
       "16"
      ]
     },
     "execution_count": 156,
     "metadata": {},
     "output_type": "execute_result"
    }
   ],
   "source": [
    "unmasked_sum = np.sum(masked_arr)\n",
    "unmasked_sum"
   ]
  },
  {
   "cell_type": "code",
   "execution_count": 157,
   "id": "8737bfab",
   "metadata": {},
   "outputs": [
    {
     "name": "stdout",
     "output_type": "stream",
     "text": [
      "[[12 11  6]\n",
      " [14 10 12]\n",
      " [25 14 22]]\n"
     ]
    }
   ],
   "source": [
    "# 2\n",
    "arr = np.random.randint(1, 30, size=(3, 3))\n",
    "print(arr)"
   ]
  },
  {
   "cell_type": "code",
   "execution_count": 162,
   "id": "ee9c0b54",
   "metadata": {},
   "outputs": [
    {
     "data": {
      "text/plain": [
       "masked_array(\n",
       "  data=[[--, 11, 6],\n",
       "        [14, --, 12],\n",
       "        [25, 14, --]],\n",
       "  mask=[[ True, False, False],\n",
       "        [False,  True, False],\n",
       "        [False, False,  True]],\n",
       "  fill_value=999999)"
      ]
     },
     "execution_count": 162,
     "metadata": {},
     "output_type": "execute_result"
    }
   ],
   "source": [
    "masked_arr = np.ma.masked_array(arr, mask=np.eye(3, dtype=bool))\n",
    "masked_arr"
   ]
  },
  {
   "cell_type": "code",
   "execution_count": 165,
   "id": "75bd52f2",
   "metadata": {},
   "outputs": [
    {
     "data": {
      "text/plain": [
       "13.666666666666666"
      ]
     },
     "execution_count": 165,
     "metadata": {},
     "output_type": "execute_result"
    }
   ],
   "source": [
    "masked_arr_mean = np.mean(masked_arr)\n",
    "masked_arr_mean"
   ]
  },
  {
   "cell_type": "code",
   "execution_count": 166,
   "id": "374bde3f",
   "metadata": {},
   "outputs": [
    {
     "data": {
      "text/plain": [
       "array([[13, 11,  6],\n",
       "       [14, 13, 12],\n",
       "       [25, 14, 13]])"
      ]
     },
     "execution_count": 166,
     "metadata": {},
     "output_type": "execute_result"
    }
   ],
   "source": [
    "masked_arr.filled(masked_arr_mean)\n"
   ]
  }
 ],
 "metadata": {
  "kernelspec": {
   "display_name": "Python 3",
   "language": "python",
   "name": "python3"
  },
  "language_info": {
   "codemirror_mode": {
    "name": "ipython",
    "version": 3
   },
   "file_extension": ".py",
   "mimetype": "text/x-python",
   "name": "python",
   "nbconvert_exporter": "python",
   "pygments_lexer": "ipython3",
   "version": "3.11.4"
  }
 },
 "nbformat": 4,
 "nbformat_minor": 5
}
