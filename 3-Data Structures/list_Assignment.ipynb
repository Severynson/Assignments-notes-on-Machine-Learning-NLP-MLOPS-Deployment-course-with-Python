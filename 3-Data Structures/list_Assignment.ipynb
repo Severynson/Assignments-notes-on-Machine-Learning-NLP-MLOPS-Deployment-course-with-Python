{
 "cells": [
  {
   "cell_type": "markdown",
   "metadata": {},
   "source": [
    "# Module 3: Data Structures Assignments\n",
    "## Lesson 3.1: Lists\n",
    "### Assignment 1: Creating and Accessing Lists\n",
    "\n",
    "Create a list of the first 20 positive integers. Print the list.\n",
    "\n",
    "### Assignment 2: Accessing List Elements\n",
    "\n",
    "Print the first, middle, and last elements of the list created in Assignment 1.\n",
    "\n",
    "### Assignment 3: List Slicing\n",
    "\n",
    "Print the first five elements, the last five elements, and the elements from index 5 to 15 of the list created in Assignment 1.\n",
    "\n",
    "### Assignment 4: List Comprehensions\n",
    "\n",
    "Create a new list containing the squares of the first 10 positive integers using a list comprehension. Print the new list.\n",
    "\n",
    "### Assignment 5: Filtering Lists\n",
    "\n",
    "Create a new list containing only the even numbers from the list created in Assignment 1 using a list comprehension. Print the new list.\n",
    "\n",
    "### Assignment 6: List Methods\n",
    "\n",
    "Create a list of random numbers and sort it in ascending and descending order. Remove the duplicates from the list and print the modified list.\n",
    "\n",
    "### Assignment 7: Nested Lists\n",
    "\n",
    "Create a nested list representing a 3x3 matrix and print the matrix. Access and print the element at the second row and third column.\n",
    "\n",
    "### Assignment 8: List of Dictionaries\n",
    "\n",
    "Create a list of dictionaries where each dictionary represents a student with keys 'name' and 'score'. Sort the list of dictionaries by the 'score' in descending order and print the sorted list.\n",
    "\n",
    "### Assignment 9: Matrix Transposition\n",
    "\n",
    "Write a function that takes a 3x3 matrix (nested list) as input and returns its transpose. Print the original and transposed matrices.\n",
    "\n",
    "### Assignment 10: Flattening a Nested List\n",
    "\n",
    "Write a function that takes a nested list and flattens it into a single list. Print the original and flattened lists.\n",
    "\n",
    "### Assignment 11: List Manipulation\n",
    "\n",
    "Create a list of the first 10 positive integers. Remove the elements at indices 2, 4, and 6, and insert the element '99' at index 5. Print the modified list.\n",
    "\n",
    "### Assignment 12: List Zipping\n",
    "\n",
    "Create two lists of the same length. Use the `zip` function to combine these lists into a list of tuples and print the result.\n",
    "\n",
    "### Assignment 13: List Reversal\n",
    "\n",
    "Write a function that takes a list and returns a new list with the elements in reverse order. Print the original and reversed lists.\n",
    "\n",
    "### Assignment 14: List Rotation\n",
    "\n",
    "Write a function that rotates a list by n positions. Print the original and rotated lists.\n",
    "\n",
    "### Assignment 15: List Intersection\n",
    "\n",
    "Write a function that takes two lists and returns a new list containing only the elements that are present in both lists. Print the intersected list."
   ]
  },
  {
   "cell_type": "code",
   "execution_count": 3,
   "id": "3fec0877",
   "metadata": {},
   "outputs": [
    {
     "name": "stdout",
     "output_type": "stream",
     "text": [
      "[1, 2, 3, 4, 5, 6, 7, 8, 9, 10, 11, 12, 13, 14, 15, 16, 17, 18, 19, 20]\n"
     ]
    }
   ],
   "source": [
    "# 1.\n",
    "list_1 = [i for i in range(1, 21)]\n",
    "print(list_1)"
   ]
  },
  {
   "cell_type": "code",
   "execution_count": 4,
   "metadata": {},
   "outputs": [
    {
     "name": "stdout",
     "output_type": "stream",
     "text": [
      "1\n",
      "11\n",
      "20\n"
     ]
    }
   ],
   "source": [
    "# 2.\n",
    "print(list_1[0])\n",
    "print(list_1[10])\n",
    "print(list_1[-1])"
   ]
  },
  {
   "cell_type": "code",
   "execution_count": 5,
   "id": "83b49a66",
   "metadata": {},
   "outputs": [
    {
     "name": "stdout",
     "output_type": "stream",
     "text": [
      "[1, 2, 3, 4, 5]\n",
      "[16, 17, 18, 19, 20]\n",
      "[6, 7, 8, 9, 10, 11, 12, 13, 14, 15]\n"
     ]
    }
   ],
   "source": [
    "# 3.\n",
    "print(list_1[:5])\n",
    "print(list_1[-5:])\n",
    "print(list_1[5:15])"
   ]
  },
  {
   "cell_type": "code",
   "execution_count": 8,
   "id": "dfb99353",
   "metadata": {},
   "outputs": [
    {
     "name": "stdout",
     "output_type": "stream",
     "text": [
      "[1, 4, 9, 16, 25, 36, 49, 64, 81, 100]\n"
     ]
    }
   ],
   "source": [
    "# 4.\n",
    "list_2 = [i ** 2 for i in range(1, 11)]\n",
    "print(list_2)"
   ]
  },
  {
   "cell_type": "code",
   "execution_count": 10,
   "id": "3789f227",
   "metadata": {},
   "outputs": [
    {
     "name": "stdout",
     "output_type": "stream",
     "text": [
      "[2, 4, 6, 8, 10, 12, 14, 16, 18, 20]\n"
     ]
    }
   ],
   "source": [
    "# 5.\n",
    "list_3 = [i for i in list_1 if i % 2 == 0]\n",
    "print(list_3)"
   ]
  },
  {
   "cell_type": "code",
   "execution_count": 11,
   "id": "bb07f051",
   "metadata": {},
   "outputs": [
    {
     "name": "stdout",
     "output_type": "stream",
     "text": [
      "[63, 1, 77, 62, 12, 95, 11, 25, 69, 44, 13, 44, 66, 60, 42, 11, 29, 93, 41, 64]\n",
      "[1, 11, 11, 12, 13, 25, 29, 41, 42, 44, 44, 60, 62, 63, 64, 66, 69, 77, 93, 95]\n",
      "[95, 93, 77, 69, 66, 64, 63, 62, 60, 44, 44, 42, 41, 29, 25, 13, 12, 11, 11, 1]\n",
      "[64, 1, 66, 69, 41, 42, 11, 44, 77, 13, 12, 63, 29, 25, 60, 93, 62, 95]\n"
     ]
    }
   ],
   "source": [
    "# 6.\n",
    "import random\n",
    "\n",
    "random_list = [random.randint(1, 100) for _ in range(20)]\n",
    "print(random_list)\n",
    "\n",
    "random_list.sort()\n",
    "print(random_list)\n",
    "\n",
    "random_list.sort(reverse=True)\n",
    "print(random_list)\n",
    "\n",
    "random_list = list(set(random_list))\n",
    "print(random_list)\n",
    "\n"
   ]
  },
  {
   "cell_type": "code",
   "execution_count": 12,
   "id": "38db2ef7",
   "metadata": {},
   "outputs": [
    {
     "name": "stdout",
     "output_type": "stream",
     "text": [
      "[[23, 80, 19], [76, 95, 43], [57, 87, 49]]\n",
      "43\n"
     ]
    }
   ],
   "source": [
    "# 7.\n",
    "nested_list = [[random.randint(1, 100) for _ in range(3)] for _ in range(3)]\n",
    "print(nested_list)\n",
    "print(nested_list[1][2])"
   ]
  },
  {
   "cell_type": "code",
   "execution_count": 13,
   "id": "1d02fc25",
   "metadata": {},
   "outputs": [
    {
     "name": "stdout",
     "output_type": "stream",
     "text": [
      "[{'name': 'Alice', 'score': 95}, {'name': 'Jane', 'score': 92}, {'name': 'Bob', 'score': 88}, {'name': 'John', 'score': 85}, {'name': 'Doe', 'score': 78}]\n"
     ]
    }
   ],
   "source": [
    "# 8.\n",
    "students = [\n",
    "    {\"name\": \"John\", \"score\": 85},\n",
    "    {\"name\": \"Jane\", \"score\": 92},\n",
    "    {\"name\": \"Doe\", \"score\": 78},\n",
    "    {\"name\": \"Alice\", \"score\": 95},\n",
    "    {\"name\": \"Bob\", \"score\": 88},\n",
    "]\n",
    "\n",
    "students.sort(key=lambda x: x[\"score\"], reverse=True)\n",
    "print(students)"
   ]
  },
  {
   "cell_type": "code",
   "execution_count": 27,
   "id": "b708296f",
   "metadata": {},
   "outputs": [
    {
     "name": "stdout",
     "output_type": "stream",
     "text": [
      "[[1, 2, 3], [4, 5, 6], [7, 8, 9]]\n",
      "[[1, 4, 7], [2, 5, 8], [3, 6, 9]]\n"
     ]
    }
   ],
   "source": [
    "# 9.\n",
    "matrix = [\n",
    "    [1, 2, 3],\n",
    "    [4, 5, 6],\n",
    "    [7, 8, 9]\n",
    "]\n",
    "\n",
    "# print(*matrix)\n",
    "# print(*list(zip(*matrix)))\n",
    "\n",
    "def transpose_matrix(matrix):\n",
    "    return [list(row) for row in zip(*matrix)]\n",
    "\n",
    "print(matrix)\n",
    "print(transpose_matrix(matrix))\n",
    "    "
   ]
  },
  {
   "cell_type": "code",
   "execution_count": 29,
   "id": "b5eadf4d",
   "metadata": {},
   "outputs": [
    {
     "name": "stdout",
     "output_type": "stream",
     "text": [
      "[[1, 2, 3], [4, 5, 6], [7, 8, 9]]\n",
      "[1, 2, 3, 4, 5, 6, 7, 8, 9]\n"
     ]
    }
   ],
   "source": [
    "# 10.\n",
    "def flatten_list(nested_list):\n",
    "    return [item for sublist in nested_list for item in sublist]\n",
    "\n",
    "nested_list = [\n",
    "    [1, 2, 3],\n",
    "    [4, 5, 6],\n",
    "    [7, 8, 9]\n",
    "]\n",
    "\n",
    "print(nested_list)\n",
    "print(flatten_list(nested_list))\n",
    "\n"
   ]
  },
  {
   "cell_type": "code",
   "execution_count": 32,
   "id": "1f7768dd",
   "metadata": {},
   "outputs": [
    {
     "name": "stdout",
     "output_type": "stream",
     "text": [
      "[1, 2, 3, 4, 5, 6, 7, 8, 9, 10]\n",
      "[1, 2, 4, 5, 7, 99, 8, 10]\n"
     ]
    }
   ],
   "source": [
    "# 11.\n",
    "list_1 = list(range(1, 11))\n",
    "print(list_1)\n",
    "\n",
    "for i in [2, 4, 6]:\n",
    "    list_1.pop(i)\n",
    "\n",
    "list_1.insert(5, 99)\n",
    "print(list_1)"
   ]
  },
  {
   "cell_type": "code",
   "execution_count": 35,
   "id": "79748c74",
   "metadata": {},
   "outputs": [
    {
     "name": "stdout",
     "output_type": "stream",
     "text": [
      "[(1, 6), (2, 7), (3, 8), (4, 9), (5, 10)]\n"
     ]
    }
   ],
   "source": [
    "# 12.\n",
    "list_1 = list(range(1, 6))\n",
    "list_2 = list(range(6, 11))\n",
    "\n",
    "print(list(zip(list_1, list_2)))"
   ]
  },
  {
   "cell_type": "code",
   "execution_count": 36,
   "id": "78530e8f",
   "metadata": {},
   "outputs": [
    {
     "name": "stdout",
     "output_type": "stream",
     "text": [
      "[5, 4, 3, 2, 1]\n"
     ]
    }
   ],
   "source": [
    "# 13.\n",
    "def reverse_list(list):\n",
    "    return list[::-1]\n",
    "\n",
    "print(reverse_list(list_1))\n",
    "    \n"
   ]
  },
  {
   "cell_type": "code",
   "execution_count": 38,
   "id": "d1f65bff",
   "metadata": {},
   "outputs": [
    {
     "name": "stdout",
     "output_type": "stream",
     "text": [
      "[3, 4, 5, 1, 2]\n"
     ]
    }
   ],
   "source": [
    "# 14.\n",
    "def rotate_list(list_1, n):\n",
    "    return list_1[n:] + list_1[:n]\n",
    "\n",
    "print(rotate_list(list_1, 2))"
   ]
  },
  {
   "cell_type": "code",
   "execution_count": 42,
   "id": "d17fc77f",
   "metadata": {},
   "outputs": [
    {
     "name": "stdout",
     "output_type": "stream",
     "text": [
      "[1, 22]\n"
     ]
    }
   ],
   "source": [
    "# 15.\n",
    "def intersection_list(list_1, list_2):\n",
    "    return [i for i in list_1 if i in list_2]\n",
    "\n",
    "print(intersection_list([1, 22, 3], [5, 1, 22]))"
   ]
  }
 ],
 "metadata": {
  "kernelspec": {
   "display_name": "Python 3",
   "language": "python",
   "name": "python3"
  },
  "language_info": {
   "codemirror_mode": {
    "name": "ipython",
    "version": 3
   },
   "file_extension": ".py",
   "mimetype": "text/x-python",
   "name": "python",
   "nbconvert_exporter": "python",
   "pygments_lexer": "ipython3",
   "version": "3.12.4"
  }
 },
 "nbformat": 4,
 "nbformat_minor": 5
}
