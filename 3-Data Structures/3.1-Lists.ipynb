{
 "cells": [
  {
   "cell_type": "code",
   "execution_count": 24,
   "metadata": {},
   "outputs": [
    {
     "name": "stdout",
     "output_type": "stream",
     "text": [
      "['apple', 'banana']\n",
      "True\n",
      "False\n"
     ]
    }
   ],
   "source": [
    "fruits = [\"apple\", \"banana\", \"cherry\"]\n",
    "\n",
    "# We can use negative indexing to get elements of the list.\n",
    "print(fruits[-3:-1])\n",
    "\n",
    "# We can use the `in` operator to check if an element is in the list.\n",
    "print(\"banana\" in fruits)\n",
    "\n",
    "# We can use the `not in` operator to check if an element is not in the list.\n",
    "print(\"banana\" not in fruits)\n",
    "\n"
   ]
  },
  {
   "cell_type": "code",
   "execution_count": 25,
   "metadata": {},
   "outputs": [
    {
     "name": "stdout",
     "output_type": "stream",
     "text": [
      "['apple', 'banana', 'cherry', 'orange', 'grape', 'apple', 'mango', 'pineapple', 'watermelon', 'grape (last)']\n"
     ]
    }
   ],
   "source": [
    "fruits.append(\"orange\")\n",
    "\n",
    "fruits.insert(6, \"grape\")\n",
    "\n",
    "# fruits.remove(\"grape\") # Removes the first item with the specified value.\n",
    "\n",
    "# To remove all items with the specified value, use a while loop:\n",
    "\n",
    "# while \"grape\" in fruits:\n",
    "#     fruits.remove(\"grape\")\n",
    "\n",
    "\n",
    "# fruits.pop()\n",
    "\n",
    "# fruits.pop(0)\n",
    "\n",
    "# del fruits[2]\n",
    "\n",
    "# del fruits\n",
    "\n",
    "# fruits.clear()\n",
    "\n",
    "# fruits.index(\"apple\")\n",
    "\n",
    "fruits.append(\"apple\")\n",
    "\n",
    "fruits.count(\"apple\")\n",
    "\n",
    "# fruits.sort()\n",
    "\n",
    "# fruits.reverse()\n",
    "\n",
    "# fruits[1] = \"kiwi\" # This may cause an error if the index is out of range, \n",
    "# use insert instead.\n",
    "\n",
    "fruits.extend([\"mango\", \"pineapple\", \"watermelon\"])\n",
    "\n",
    "fruits.insert(100, \"grape (last)\") # Inserts an element at the specified position.\n",
    "# However, if the index is greater than the length of the list, \n",
    "# the element will be added as the last element.\n",
    "\n",
    "print(fruits)"
   ]
  },
  {
   "cell_type": "markdown",
   "metadata": {},
   "source": [
    "### To iterate lists with index"
   ]
  },
  {
   "cell_type": "code",
   "execution_count": 27,
   "metadata": {},
   "outputs": [
    {
     "name": "stdout",
     "output_type": "stream",
     "text": [
      "1) apple\n",
      "2) banana\n",
      "3) cherry\n",
      "4) orange\n",
      "5) grape\n",
      "6) apple\n",
      "7) mango\n",
      "8) pineapple\n",
      "9) watermelon\n",
      "10) grape (last)\n"
     ]
    }
   ],
   "source": [
    "for index, fruit in enumerate(fruits, start=1):\n",
    "    print(f\"{index}) {fruit}\")"
   ]
  },
  {
   "cell_type": "markdown",
   "metadata": {},
   "source": [
    "### List comprehension"
   ]
  },
  {
   "cell_type": "code",
   "execution_count": 30,
   "metadata": {},
   "outputs": [
    {
     "name": "stdout",
     "output_type": "stream",
     "text": [
      "[1, 4, 9, 16, 25, 36, 49, 64, 81, 100]\n",
      "[4, 16, 36, 64, 100]\n",
      "[1, 2, 3, 4, 5, 6, 7, 8, 9]\n",
      "['H', 'e', 'l', 'l', 'o', ',', ' ', 'W', 'o', 'r', 'l', 'd', '!']\n",
      "['Index: 0, Value: apple', 'Index: 1, Value: banana', 'Index: 2, Value: cherry', 'Index: 3, Value: orange', 'Index: 4, Value: grape', 'Index: 5, Value: apple', 'Index: 6, Value: mango', 'Index: 7, Value: pineapple', 'Index: 8, Value: watermelon', 'Index: 9, Value: grape (last)']\n",
      "['Odd', 2, 'Odd', 4, 'Odd', 6, 'Odd', 8, 'Odd', 10]\n"
     ]
    }
   ],
   "source": [
    "squares = [number ** 2 for number in range(1, 11)]\n",
    "print(squares)\n",
    "\n",
    "# List comprehension with condition\n",
    "is_even = lambda number: number % 2 == 0\n",
    "even_squares = [number ** 2 for number in range(1, 11) if is_even(number)]\n",
    "print(even_squares)\n",
    "\n",
    "# Nested list comprehension\n",
    "nested_list = [[1, 2, 3], [4, 5, 6], [7, 8, 9]]\n",
    "flattened_list = [number for row in nested_list for number in row]\n",
    "print(flattened_list)\n",
    "\n",
    "# List comprehension with string\n",
    "string_list = \"Hello, World!\"\n",
    "char_list = [char for char in string_list]\n",
    "print(char_list)\n",
    "\n",
    "# Use with enumerate to get index and value\n",
    "index_value_list = [f\"Index: {index}, Value: {value}\" for index, value in enumerate(fruits)]\n",
    "print(index_value_list)\n",
    "\n",
    "# List comprehension with if-else\n",
    "numbers = [1, 2, 3, 4, 5, 6, 7, 8, 9, 10]\n",
    "conditional_list = [number if number % 2 == 0 else \"Odd\" for number in numbers]\n",
    "print(conditional_list)\n",
    "\n",
    "\n"
   ]
  }
 ],
 "metadata": {
  "kernelspec": {
   "display_name": "base",
   "language": "python",
   "name": "python3"
  },
  "language_info": {
   "codemirror_mode": {
    "name": "ipython",
    "version": 3
   },
   "file_extension": ".py",
   "mimetype": "text/x-python",
   "name": "python",
   "nbconvert_exporter": "python",
   "pygments_lexer": "ipython3",
   "version": "3.12.4"
  }
 },
 "nbformat": 4,
 "nbformat_minor": 2
}
