{
 "cells": [
  {
   "cell_type": "code",
   "execution_count": 15,
   "metadata": {},
   "outputs": [
    {
     "name": "stdout",
     "output_type": "stream",
     "text": [
      "(1, 2, 3, 4, 5, 6)\n",
      "(1, 2, 3, 4, 5, 6, 1, 2, 3, 4, 5, 6, 1, 2, 3, 4, 5, 6)\n"
     ]
    }
   ],
   "source": [
    "tuple_1 = (1, 2, 3)\n",
    "tuple_2 = (4, 5, 6)\n",
    "\n",
    "concatenated_tuple = tuple_1 + tuple_2 # We can concatenate tuples\n",
    "print(concatenated_tuple)\n",
    "\n",
    "print(concatenated_tuple * 3) # We can multiply tuples\n"
   ]
  },
  {
   "cell_type": "markdown",
   "metadata": {},
   "source": [
    "### Packing and Unpacking Tuples"
   ]
  },
  {
   "cell_type": "code",
   "execution_count": 22,
   "metadata": {},
   "outputs": [
    {
     "name": "stdout",
     "output_type": "stream",
     "text": [
      "(1.0, 'Severyn', True, 666)\n",
      "1.0 Severyn True 666\n",
      "1.0 Severyn [True, 666]\n",
      "1.0 ['Severyn', True] 666\n"
     ]
    }
   ],
   "source": [
    "packed_tuple = 1.0, \"Severyn\", True, 666 # Packing can be done without parentheses\n",
    "print(packed_tuple)\n",
    "\n",
    "# Unpacking tuples\n",
    "\n",
    "a, b, c, d = packed_tuple\n",
    "print(a, b, c, d)\n",
    "\n",
    "# We can also use the * operator to unpack the tuple\n",
    "a, b, *c = packed_tuple\n",
    "print(a, b, c)\n",
    "\n",
    "# We can also use the * operator to unpack the tuple\n",
    "a, *b, c = packed_tuple\n",
    "print(a, b, c)\n",
    "\n"
   ]
  }
 ],
 "metadata": {
  "kernelspec": {
   "display_name": "base",
   "language": "python",
   "name": "python3"
  },
  "language_info": {
   "codemirror_mode": {
    "name": "ipython",
    "version": 3
   },
   "file_extension": ".py",
   "mimetype": "text/x-python",
   "name": "python",
   "nbconvert_exporter": "python",
   "pygments_lexer": "ipython3",
   "version": "3.12.4"
  }
 },
 "nbformat": 4,
 "nbformat_minor": 2
}
