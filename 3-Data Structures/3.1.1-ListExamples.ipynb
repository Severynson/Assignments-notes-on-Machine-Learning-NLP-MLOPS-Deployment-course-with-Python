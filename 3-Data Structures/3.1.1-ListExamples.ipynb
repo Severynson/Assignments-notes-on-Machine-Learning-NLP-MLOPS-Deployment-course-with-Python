{
 "cells": [
  {
   "cell_type": "code",
   "execution_count": 5,
   "metadata": {},
   "outputs": [
    {
     "name": "stdout",
     "output_type": "stream",
     "text": [
      "['But a peanut butter', 'go for a run', 'do workout', 'complete app development homework', 'buy groceries', \"read Henry's Ford autobiography\"]\n",
      "['But a peanut butter', 'do workout', 'complete app development homework', 'buy groceries', \"read Henry's Ford autobiography\"]\n",
      "You have to dedicate some time for yourself and read Henry's Ford autobiography.\n",
      "\n",
      "Your tasks for today are:\n",
      "Task: But a peanut butter\n",
      "Task: do workout\n",
      "Task: complete app development homework\n",
      "Task: buy groceries\n",
      "Task: read Henry's Ford autobiography\n"
     ]
    }
   ],
   "source": [
    "to_do_list = [\"But a peanut butter\", \"go for a run\", \"do workout\", \"complete app development homework\"]\n",
    "\n",
    "# Adding to task list\n",
    "to_do_list.append(\"buy groceries\")\n",
    "to_do_list.append(\"read Henry's Ford autobiography\")\n",
    "print(to_do_list)\n",
    "\n",
    "# Removing from task list\n",
    "to_do_list.remove(\"go for a run\")\n",
    "print(to_do_list)\n",
    "\n",
    "if \"read Henry's Ford autobiography\" in to_do_list:\n",
    "    print(\"You have to dedicate some time for yourself and read Henry's Ford autobiography.\")\n",
    "else:\n",
    "    print(\"Enough for today, now - WORK!\")\n",
    "\n",
    "print(\"\\nYour tasks for today are:\")\n",
    "for task in to_do_list:\n",
    "    print(f\"Task: {task}\")\n",
    "\n"
   ]
  }
 ],
 "metadata": {
  "kernelspec": {
   "display_name": "base",
   "language": "python",
   "name": "python3"
  },
  "language_info": {
   "codemirror_mode": {
    "name": "ipython",
    "version": 3
   },
   "file_extension": ".py",
   "mimetype": "text/x-python",
   "name": "python",
   "nbconvert_exporter": "python",
   "pygments_lexer": "ipython3",
   "version": "3.12.4"
  }
 },
 "nbformat": 4,
 "nbformat_minor": 2
}
