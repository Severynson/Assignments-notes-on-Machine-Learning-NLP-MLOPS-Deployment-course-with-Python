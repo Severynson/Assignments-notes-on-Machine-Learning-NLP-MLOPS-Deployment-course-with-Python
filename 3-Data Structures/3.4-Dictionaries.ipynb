{
 "cells": [
  {
   "cell_type": "markdown",
   "metadata": {},
   "source": [
    "### Ways to create dictionaries"
   ]
  },
  {
   "cell_type": "code",
   "execution_count": 1,
   "metadata": {},
   "outputs": [
    {
     "name": "stdout",
     "output_type": "stream",
     "text": [
      "{'key1': 'value1', 'key2': 'value2', 'key3': 'value3'}\n",
      "{'key1': 'value1', 'key2': 'value2', 'key3': 'value3'}\n",
      "{'key1': 'value1', 'key2': 'value2', 'key3': 'value3'}\n",
      "{'key1': 'value1', 'key2': 'value2', 'key3': 'value3'}\n",
      "{0: 0, 1: 1, 2: 4, 3: 9, 4: 16}\n",
      "{'key1': 'value1', 'key2': 'value2', 'key3': 'value3'}\n"
     ]
    }
   ],
   "source": [
    "# 1.\n",
    "dict_one = {\"key1\": \"value1\", \"key2\": \"value2\", \"key3\": \"value3\"}\n",
    "print(dict_one)\n",
    "\n",
    "# 2.\n",
    "dict_two = dict(key1=\"value1\", key2=\"value2\", key3=\"value3\")\n",
    "print(dict_two)\n",
    "\n",
    "# 3.\n",
    "dict_three = dict([(\"key1\", \"value1\"), (\"key2\", \"value2\"), (\"key3\", \"value3\")])\n",
    "print(dict_three)\n",
    "\n",
    "# 4.\n",
    "dict_four = dict({\"key1\": \"value1\", \"key2\": \"value2\", \"key3\": \"value3\"})\n",
    "print(dict_four)\n",
    "\n",
    "# 5.\n",
    "dict_five = {i: i**2 for i in range(5)}\n",
    "print(dict_five)\n",
    "\n",
    "# 6.\n",
    "dict_six = dict(zip([\"key1\", \"key2\", \"key3\"], [\"value1\", \"value2\", \"value3\"]))\n",
    "print(dict_six)"
   ]
  },
  {
   "cell_type": "markdown",
   "metadata": {},
   "source": [
    "### We can't have duplicate keys in a dictionary. It will overwrite the value.\n",
    "\n",
    "\n"
   ]
  },
  {
   "cell_type": "code",
   "execution_count": 4,
   "metadata": {},
   "outputs": [
    {
     "name": "stdout",
     "output_type": "stream",
     "text": [
      "{'key1': 'value1', 'key2': 'value2', 'key3': 'value3'}\n"
     ]
    }
   ],
   "source": [
    "dict_seven = {\"key1\": \"value1\", \"key2\": \"value2\", \"key3\": \"value3\"}\n",
    "print(dict_seven)"
   ]
  },
  {
   "cell_type": "markdown",
   "metadata": {},
   "source": [
    "### Accessing values in a dictionary"
   ]
  },
  {
   "cell_type": "code",
   "execution_count": 16,
   "metadata": {},
   "outputs": [
    {
     "name": "stdout",
     "output_type": "stream",
     "text": [
      "value1\n",
      "value1\n",
      "None\n",
      "Not available\n",
      "value1\n"
     ]
    }
   ],
   "source": [
    "print(dict_seven[\"key1\"])\n",
    "print(dict_seven.get(\"key1\"))\n",
    "\n",
    "# print(dict_seven[\"key11\"]) # This will raise an error if the key is not found.\n",
    "print(dict_seven.get(\"key11\")) # This will return None if the key is not found.\n",
    "print(dict_seven.get(\"key11\", \"Not available\")) # This will return \"Not available\" if the key is not found.\n",
    "print(dict_seven.get(\"key1\", \"Not available\"))\n",
    "\n",
    "### Adding a new key-value pair to a dictionary"
   ]
  },
  {
   "cell_type": "markdown",
   "metadata": {},
   "source": [
    "### We can delete a key-value pair from a dictionary using the del keyword."
   ]
  },
  {
   "cell_type": "code",
   "execution_count": 28,
   "metadata": {},
   "outputs": [
    {
     "name": "stdout",
     "output_type": "stream",
     "text": [
      "{'key1': 'value1', 'key2': 'value2', 'key3': 'value3', 'key4': 'value4', 'key5': 'value5', 'key6': 'value6'}\n",
      "{'key2': 'value2', 'key3': 'value3', 'key4': 'value4', 'key5': 'value5', 'key6': 'value6'}\n",
      "{'key3': 'value3', 'key4': 'value4', 'key5': 'value5', 'key6': 'value6'}\n",
      "{'key3': 'value3', 'key4': 'value4', 'key5': 'value5'}\n",
      "{}\n"
     ]
    }
   ],
   "source": [
    "dict_eight = {\n",
    "    \"key1\": \"value1\",\n",
    "    \"key2\": \"value2\",\n",
    "    \"key3\": \"value3\",\n",
    "    \"key4\": \"value4\",\n",
    "    \"key5\": \"value5\",\n",
    "    \"key6\": \"value6\",\n",
    "}\n",
    "\n",
    "print(dict_eight)\n",
    "\n",
    "del dict_eight[\"key1\"]\n",
    "print(dict_eight)\n",
    "\n",
    "### We can also use the pop method to delete a key-value pair from a dictionary.\n",
    "dict_eight.pop(\"key2\")  # Empty .pop() will not work.\n",
    "print(dict_eight)\n",
    "\n",
    "### We can also use the popitem method to delete a key-value pair from a dictionary.\n",
    "dict_eight.popitem()\n",
    "print(dict_eight)\n",
    "\n",
    "### We can also use the clear method to delete all key-value pair from a dictionary.\n",
    "dict_eight.clear()\n",
    "print(dict_eight)"
   ]
  },
  {
   "cell_type": "markdown",
   "metadata": {},
   "source": [
    "### Accessing all keys, values, and items in a dictionary "
   ]
  },
  {
   "cell_type": "code",
   "execution_count": 29,
   "metadata": {},
   "outputs": [
    {
     "name": "stdout",
     "output_type": "stream",
     "text": [
      "dict_keys(['key1', 'key2', 'key3'])\n",
      "dict_values(['value1', 'value2', 'value3'])\n",
      "dict_items([('key1', 'value1'), ('key2', 'value2'), ('key3', 'value3')])\n"
     ]
    }
   ],
   "source": [
    "dict_nine = {\"key1\": \"value1\", \"key2\": \"value2\", \"key3\": \"value3\"}\n",
    "print(dict_nine.keys())\n",
    "print(dict_nine.values())\n",
    "print(dict_nine.items())"
   ]
  },
  {
   "cell_type": "markdown",
   "metadata": {},
   "source": [
    "### Copying a dictionary"
   ]
  },
  {
   "cell_type": "code",
   "execution_count": 39,
   "metadata": {},
   "outputs": [
    {
     "name": "stdout",
     "output_type": "stream",
     "text": [
      "copy_dict before modifying dict_nine:  {'key1': 'value1', 'key2': 'value2', 'key3': {'key3.1': 'value3.1', 'key3.2': 'value3.2'}}\n",
      "copy_dict after modifying dict_nine:  {'key1': 'new_value1', 'key2': 'value2', 'key3': {'key3.1': 'value3.1', 'key3.2': 'value3.2'}}\n",
      "\n",
      "copy_dict before modifying dict_nine:  {'key1': 'value1', 'key2': 'value2', 'key3': {'key3.1': 'value3.1', 'key3.2': 'value3.2'}}\n",
      "copy_dict after modifying dict_nine:  {'key1': 'value1', 'key2': 'value2', 'key3': {'key3.1': 'value3.1', 'key3.2': 'value3.2'}}\n",
      "\n",
      "copy_dict after modifying dict_nine:  {'key1': 'value1', 'key2': 'value2', 'key3': {'key3.1': 'value3.1', 'key3.2': 'value3.2'}}\n",
      "\n",
      "copy_dict after modifying dict_nine's inner dictionary:  {'key1': 'value1', 'key2': 'value2', 'key3': {'key3.1': 'value3.1', 'key3.2': 'value3.2'}}\n",
      "\n",
      "copy_dict after modifying dict_nine's inner dictionary:  {'key1': 'value1', 'key2': 'value2', 'key3': {'key3.1': 'another_value', 'key3.2': 'value3.2'}}\n",
      "\n",
      "copy_dict after modifying dict_nine's inner dictionary:  {'key1': 'value1', 'key2': 'value2', 'key3': {'key3.1': 'value3.1', 'key3.2': 'value3.2'}}\n",
      "\n",
      "copy_dict after modifying dict_nine's inner dictionary:  {'key1': 'value1', 'key2': 'value2', 'key3': {'key3.1': 'value3.1', 'key3.2': 'value3.2'}}\n",
      "\n",
      "{'key1': 'value1', 'key2': 'value2', 'key3': {'key3.1': 'value3.1', 'key3.2': 'value3.2'}, 'key4': 'value4'}\n"
     ]
    }
   ],
   "source": [
    "dict_nine = { \"key1\": \"value1\", \"key2\": \"value2\", \"key3\": {\"key3.1\": \"value3.1\", \"key3.2\": \"value3.2\"}}\n",
    "dict_ten = { \"key4\": \"value4\", \"key5\": \"value5\", \"key6\": \"value6\"}\n",
    "\n",
    "# This will just copy a reference to the dictionary.\n",
    "copy_dict = dict_nine\n",
    "print(\"copy_dict before modifying dict_nine: \", copy_dict)\n",
    "dict_nine[\"key1\"] = \"new_value1\"\n",
    "print(\"copy_dict after modifying dict_nine: \", copy_dict, end=\"\\n\\n\")\n",
    "dict_nine[\"key1\"] = \"value1\"\n",
    "\n",
    "# This will create a shallow copy of the dictionary.\n",
    "print(\"copy_dict before modifying dict_nine: \", copy_dict)\n",
    "copy_dict = dict_nine.copy()\n",
    "print(\"copy_dict after modifying dict_nine: \", copy_dict, end=\"\\n\\n\")\n",
    "dict_nine[\"key1\"] = \"value1\"\n",
    "print(\"copy_dict after modifying dict_nine: \", copy_dict, end=\"\\n\\n\")\n",
    "\n",
    "# Shallow copy won't work for nested dictionaries, lists, etc.\n",
    "print(\"copy_dict after modifying dict_nine's inner dictionary: \", copy_dict, end=\"\\n\\n\")\n",
    "dict_nine[\"key3\"][\"key3.1\"] = \"another_value\"\n",
    "print(\"copy_dict after modifying dict_nine's inner dictionary: \", copy_dict, end=\"\\n\\n\")\n",
    "dict_nine[\"key3\"][\"key3.1\"] = \"value3.1\"\n",
    "\n",
    "# This will create a deep copy of the dictionary.\n",
    "import copy\n",
    "copy_dict = copy.deepcopy(dict_nine)\n",
    "print(\"copy_dict after modifying dict_nine's inner dictionary: \", copy_dict, end=\"\\n\\n\")\n",
    "dict_nine[\"key3\"][\"key3.1\"] = \"value3.1\"\n",
    "print(\"copy_dict after modifying dict_nine's inner dictionary: \", copy_dict, end=\"\\n\\n\")\n",
    "\n",
    "### Updating a dictionary\n",
    "dict_nine.update({\"key4\": \"value4\"})\n",
    "print(dict_nine)\n"
   ]
  },
  {
   "cell_type": "markdown",
   "metadata": {},
   "source": [
    "### Iterating over nested dictionary"
   ]
  },
  {
   "cell_type": "code",
   "execution_count": 53,
   "metadata": {},
   "outputs": [
    {
     "name": "stdout",
     "output_type": "stream",
     "text": [
      "\n",
      " Severyn {'age': 25, 'city': 'Stockton', 'email': 'severyn@example.com', 'phone': '123-456-7890', 'gender': 'male'}\n",
      "Severyn is a specific human because his age is 25!\n",
      "Severyn is a specific human because his city is Stockton!\n",
      "Severyn is a specific human because his email is severyn@example.com!\n",
      "Severyn is a specific human because his phone is 123-456-7890!\n",
      "Severyn is a specific human because his gender is male!\n",
      "\n",
      " Jane {'age': 25, 'city': 'Marysville', 'email': 'jane@example.com', 'phone': '123-456-7890', 'gender': 'female'}\n",
      "Jane is a specific human because her age is 25!\n",
      "Jane is a specific human because her city is Marysville!\n",
      "Jane is a specific human because her email is jane@example.com!\n",
      "Jane is a specific human because her phone is 123-456-7890!\n",
      "Jane is a specific human because her gender is female!\n"
     ]
    }
   ],
   "source": [
    "people = {\n",
    "    \"Severyn\": {\n",
    "        \"age\": 25,\n",
    "        \"city\": \"Stockton\",\n",
    "        \"email\": \"severyn@example.com\",\n",
    "        \"phone\": \"123-456-7890\",\n",
    "        \"gender\": \"male\",\n",
    "    },\n",
    "    \"Jane\": {\n",
    "        \"age\": 25,\n",
    "        \"city\": \"Marysville\",\n",
    "        \"email\": \"jane@example.com\",\n",
    "        \"phone\": \"123-456-7890\",\n",
    "        \"gender\": \"female\",\n",
    "    },\n",
    "}\n",
    "\n",
    "for key, value in people.items():\n",
    "    print(\"\\n\", key, value)\n",
    "    if isinstance(value, dict): # Check if the value is a dictionary to avoid an error.\n",
    "        for key_inner, value_inner in value.items():\n",
    "            print(f\"{key} is a specific human because {value['gender'] == \"male\" and \"his\" or \"her\"} {key_inner} is {value_inner}!\")"
   ]
  },
  {
   "cell_type": "markdown",
   "metadata": {},
   "source": [
    "### Dictionary Comprehensions"
   ]
  },
  {
   "cell_type": "code",
   "execution_count": 55,
   "metadata": {},
   "outputs": [
    {
     "name": "stdout",
     "output_type": "stream",
     "text": [
      "{0: 0, 1: 1, 2: 4, 3: 9, 4: 16}\n",
      "{0: 0, 2: 4, 4: 16}\n"
     ]
    }
   ],
   "source": [
    "dict_eleven = {i: i**2 for i in range(5)}\n",
    "print(dict_eleven)\n",
    "\n",
    "# Conditional logic in dictionary comprehensions\n",
    "dict_twelve = {i: i**2 for i in range(5) if i % 2 == 0}\n",
    "print(dict_twelve)"
   ]
  },
  {
   "cell_type": "markdown",
   "metadata": {},
   "source": [
    "### Practical examples of using dictionaries"
   ]
  },
  {
   "cell_type": "code",
   "execution_count": 58,
   "metadata": {},
   "outputs": [
    {
     "name": "stdout",
     "output_type": "stream",
     "text": [
      "{'h': 1, 'e': 1, 'l': 2, 'o': 1}\n"
     ]
    }
   ],
   "source": [
    "# Use to count the frequency of each character in a string with a\n",
    "# readable formatted output without effort.\n",
    "\n",
    "string = \"hello\"\n",
    "char_frequency = {}\n",
    "for char in string:\n",
    "    if char in char_frequency:\n",
    "        char_frequency[char] += 1\n",
    "    else:\n",
    "        char_frequency[char] = 1\n",
    "print(char_frequency)\n"
   ]
  },
  {
   "cell_type": "markdown",
   "metadata": {},
   "source": [
    "### Merging dictionaries"
   ]
  },
  {
   "cell_type": "code",
   "execution_count": 60,
   "metadata": {},
   "outputs": [
    {
     "name": "stdout",
     "output_type": "stream",
     "text": [
      "{'a': 1, 'b': 2, 'c': 3, 'd': 4, 'e': 5, 'f': 6}\n"
     ]
    }
   ],
   "source": [
    "dict_thirteen = {\"a\": 1, \"b\": 2, \"c\": 3}\n",
    "dict_fourteen = {\"d\": 4, \"e\": 5, \"f\": 6}\n",
    "dict_fifteen = {**dict_thirteen, **dict_fourteen} # Like ... operator in JavaScript.\n",
    "print(dict_fifteen)"
   ]
  }
 ],
 "metadata": {
  "kernelspec": {
   "display_name": "base",
   "language": "python",
   "name": "python3"
  },
  "language_info": {
   "codemirror_mode": {
    "name": "ipython",
    "version": 3
   },
   "file_extension": ".py",
   "mimetype": "text/x-python",
   "name": "python",
   "nbconvert_exporter": "python",
   "pygments_lexer": "ipython3",
   "version": "3.12.4"
  }
 },
 "nbformat": 4,
 "nbformat_minor": 2
}
