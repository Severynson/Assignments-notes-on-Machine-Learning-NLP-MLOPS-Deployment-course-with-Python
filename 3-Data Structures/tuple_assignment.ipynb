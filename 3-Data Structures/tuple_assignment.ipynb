{
 "cells": [
  {
   "cell_type": "markdown",
   "id": "6cade624",
   "metadata": {},
   "source": [
    "# Module 3: Data Structures Assignments\n",
    "## Lesson 3.2: Tuples\n",
    "### Assignment 1: Creating and Accessing Tuples\n",
    "\n",
    "Create a tuple with the first 10 positive integers. Print the tuple.\n",
    "\n",
    "### Assignment 2: Accessing Tuple Elements\n",
    "\n",
    "Print the first, middle, and last elements of the tuple created in Assignment 1.\n",
    "\n",
    "### Assignment 3: Tuple Slicing\n",
    "\n",
    "Print the first three elements, the last three elements, and the elements from index 2 to 5 of the tuple created in Assignment 1.\n",
    "\n",
    "### Assignment 4: Nested Tuples\n",
    "\n",
    "Create a nested tuple representing a 3x3 matrix and print the matrix. Access and print the element at the second row and third column.\n",
    "\n",
    "### Assignment 5: Tuple Concatenation\n",
    "\n",
    "Concatenate two tuples: (1, 2, 3) and (4, 5, 6). Print the resulting tuple.\n",
    "\n",
    "### Assignment 6: Tuple Methods\n",
    "\n",
    "Create a tuple with duplicate elements and count the occurrences of an element. Find the index of the first occurrence of an element in the tuple.\n",
    "\n",
    "### Assignment 7: Unpacking Tuples\n",
    "\n",
    "Create a tuple with 5 elements and unpack it into 5 variables. Print the variables.\n",
    "\n",
    "### Assignment 8: Tuple Conversion\n",
    "\n",
    "Convert a list of the first 5 positive integers to a tuple. Print the tuple.\n",
    "\n",
    "### Assignment 9: Tuple of Tuples\n",
    "\n",
    "Create a tuple containing 3 tuples, each with 3 elements. Print the tuple of tuples.\n",
    "\n",
    "### Assignment 10: Tuple and List\n",
    "\n",
    "Create a tuple with the first 5 positive integers. Convert it to a list, append the number 6, and convert it back to a tuple. Print the resulting tuple.\n",
    "\n",
    "### Assignment 11: Tuple and String\n",
    "\n",
    "Create a tuple with the characters of a string. Join the tuple elements into a single string. Print the string.\n",
    "\n",
    "### Assignment 12: Tuple and Dictionary\n",
    "\n",
    "Create a dictionary with tuple keys and integer values. Print the dictionary.\n",
    "\n",
    "### Assignment 13: Nested Tuple Iteration\n",
    "\n",
    "Create a nested tuple and iterate over the elements, printing each element.\n",
    "\n",
    "### Assignment 14: Tuple and Set\n",
    "\n",
    "Create a tuple with duplicate elements. Convert it to a set to remove duplicates and print the resulting set.\n",
    "\n",
    "### Assignment 15: Tuple Functions\n",
    "\n",
    "Write functions that take a tuple and return the minimum, maximum, and sum of the elements. Print the results for a sample tuple."
   ]
  },
  {
   "cell_type": "code",
   "execution_count": 1,
   "metadata": {},
   "outputs": [
    {
     "name": "stdout",
     "output_type": "stream",
     "text": [
      "(1, 2, 3, 4, 5, 6, 7, 8, 9, 10)\n"
     ]
    }
   ],
   "source": [
    "# 1.\n",
    "tuple_1 = tuple(range(1, 11))\n",
    "print(tuple_1)"
   ]
  },
  {
   "cell_type": "code",
   "execution_count": 5,
   "id": "58f3a082",
   "metadata": {},
   "outputs": [
    {
     "name": "stdout",
     "output_type": "stream",
     "text": [
      "First element: 1 \n",
      "Middle element: 6 \n",
      "Last element: 10\n"
     ]
    }
   ],
   "source": [
    "# 2.\n",
    "print(\n",
    "    \"First element:\",\n",
    "    tuple_1[0],\n",
    "    \"\\nMiddle element:\",\n",
    "    tuple_1[5],\n",
    "    \"\\nLast element:\",\n",
    "    tuple_1[-1],\n",
    ")"
   ]
  },
  {
   "cell_type": "code",
   "execution_count": 6,
   "id": "efb89818",
   "metadata": {},
   "outputs": [
    {
     "name": "stdout",
     "output_type": "stream",
     "text": [
      "First three elements: (1, 2, 3) \n",
      "Last three elements: (8, 9, 10) \n",
      "Elements from index 2 to 5: (3, 4, 5)\n"
     ]
    }
   ],
   "source": [
    "# 3.\n",
    "print(\n",
    "    \"First three elements:\",\n",
    "    tuple_1[:3],\n",
    "    \"\\nLast three elements:\",\n",
    "    tuple_1[-3:],\n",
    "    \"\\nElements from index 2 to 5:\",\n",
    "    tuple_1[2:5],\n",
    ")"
   ]
  },
  {
   "cell_type": "code",
   "execution_count": 7,
   "id": "f32ac71d",
   "metadata": {},
   "outputs": [
    {
     "name": "stdout",
     "output_type": "stream",
     "text": [
      "((1, 2, 3), (4, 5, 6), (7, 8, 9))\n",
      "6\n"
     ]
    }
   ],
   "source": [
    "# 4.\n",
    "matrix = ((1, 2, 3), (4, 5, 6), (7, 8, 9))\n",
    "print(matrix)\n",
    "print(matrix[1][2])"
   ]
  },
  {
   "cell_type": "code",
   "execution_count": 8,
   "id": "ef0e25f9",
   "metadata": {},
   "outputs": [
    {
     "name": "stdout",
     "output_type": "stream",
     "text": [
      "(1, 2, 3, 4, 5, 6)\n"
     ]
    }
   ],
   "source": [
    "# 5.\n",
    "tuple_1 = (1, 2, 3)\n",
    "tuple_2 = (4, 5, 6)\n",
    "tuple_3 = tuple_1 + tuple_2\n",
    "print(tuple_3)"
   ]
  },
  {
   "cell_type": "code",
   "execution_count": 9,
   "id": "d69e0d1e",
   "metadata": {},
   "outputs": [
    {
     "name": "stdout",
     "output_type": "stream",
     "text": [
      "2\n",
      "1\n"
     ]
    }
   ],
   "source": [
    "# 6.\n",
    "tuple_with_duplicates = (1, 2, 2, 3, 4, 5)\n",
    "print(tuple_with_duplicates.count(2))\n",
    "print(tuple_with_duplicates.index(2))"
   ]
  },
  {
   "cell_type": "code",
   "execution_count": 1,
   "id": "214eab7a",
   "metadata": {},
   "outputs": [
    {
     "name": "stdout",
     "output_type": "stream",
     "text": [
      "1 4 3 4 5\n"
     ]
    }
   ],
   "source": [
    "# 7.\n",
    "tuple_with_5_el = (1, 2, 3, 4, 5)\n",
    "s, e, v, e, r = tuple_with_5_el\n",
    "print(s, e, v, e, r)"
   ]
  },
  {
   "cell_type": "code",
   "execution_count": 5,
   "id": "f8b5a86b",
   "metadata": {},
   "outputs": [
    {
     "name": "stdout",
     "output_type": "stream",
     "text": [
      "(1, 2, 3, 4, 5)\n"
     ]
    }
   ],
   "source": [
    "# 8.\n",
    "list_1 = list(range(1,6))\n",
    "tuple_1 = tuple(list_1)\n",
    "print(tuple_1)"
   ]
  },
  {
   "cell_type": "code",
   "execution_count": 21,
   "id": "813817f5",
   "metadata": {},
   "outputs": [
    {
     "name": "stdout",
     "output_type": "stream",
     "text": [
      "((0, 1, 2), (1, 2, 3), (2, 3, 4))\n"
     ]
    }
   ],
   "source": [
    "# 9.\n",
    "tuple_1 = tuple(tuple(i + n for i in range(3)) for n in range(3))\n",
    "print(tuple_1)"
   ]
  },
  {
   "cell_type": "code",
   "execution_count": 23,
   "id": "7a0d1a87",
   "metadata": {},
   "outputs": [
    {
     "name": "stdout",
     "output_type": "stream",
     "text": [
      "(1, 2, 3, 4, 5, 6)\n",
      "12345\n"
     ]
    }
   ],
   "source": [
    "# 10.\n",
    "tuple_1 = tuple(range(1,6))\n",
    "list_1 = list(list_1)\n",
    "list_1.append(6)\n",
    "tuple_1 = tuple(list_1)\n",
    "print(tuple_1)"
   ]
  },
  {
   "cell_type": "code",
   "execution_count": 29,
   "id": "479e4900",
   "metadata": {},
   "outputs": [
    {
     "name": "stdout",
     "output_type": "stream",
     "text": [
      "Severyn\n"
     ]
    }
   ],
   "source": [
    "# 11.\n",
    "tuple_1 = tuple(i for i in \"Severyn\")\n",
    "srt_from_tuple = \"\".join(tuple_1)\n",
    "print(srt_from_tuple)"
   ]
  },
  {
   "cell_type": "code",
   "execution_count": 35,
   "id": "13521983",
   "metadata": {},
   "outputs": [
    {
     "name": "stdout",
     "output_type": "stream",
     "text": [
      "{(1, 2): (3, 4), (5, 6): (7, 8)}\n"
     ]
    }
   ],
   "source": [
    "# 12.\n",
    "dict_1 = {\n",
    "    (1, 2): (3, 4),\n",
    "    (5, 6): (7, 8)\n",
    "}\n",
    "\n",
    "print(dict_1)"
   ]
  },
  {
   "cell_type": "code",
   "execution_count": 59,
   "id": "f68d0ecc",
   "metadata": {},
   "outputs": [
    {
     "name": "stdout",
     "output_type": "stream",
     "text": [
      "((2, 3, 4), (3, 4, 5), (4, 5, 6))\n",
      "2\n",
      "3\n",
      "4\n",
      "3\n",
      "4\n",
      "5\n",
      "4\n",
      "5\n",
      "6\n"
     ]
    }
   ],
   "source": [
    "# 13.\n",
    "nested_tuple = tuple(tuple(range(i + 1, i + 4)) for i in range(1, 4))\n",
    "\n",
    "print(nested_tuple)\n",
    "\n",
    "for row in nested_tuple:\n",
    "    for col in row:\n",
    "        print(col)"
   ]
  },
  {
   "cell_type": "code",
   "execution_count": 60,
   "id": "9cf2d978",
   "metadata": {},
   "outputs": [
    {
     "name": "stdout",
     "output_type": "stream",
     "text": [
      "{1, 2, 3, 4, 5}\n"
     ]
    }
   ],
   "source": [
    "# 14.\n",
    "tuple_with_duplicates = (1, 2, 2, 3, 4, 5)\n",
    "set_from_tuple = set(tuple_with_duplicates)\n",
    "print(set_from_tuple)"
   ]
  },
  {
   "cell_type": "code",
   "execution_count": 64,
   "id": "f28e6992",
   "metadata": {},
   "outputs": [
    {
     "name": "stdout",
     "output_type": "stream",
     "text": [
      "(5, 1, 15)\n"
     ]
    }
   ],
   "source": [
    "# 15.\n",
    "def mix_max_sum_of_tuple(param_tuple):\n",
    "    return (max(param_tuple), min(param_tuple), sum(param_tuple))\n",
    "\n",
    "print(mix_max_sum_of_tuple((1, 2, 3, 4, 5)))"
   ]
  }
 ],
 "metadata": {
  "kernelspec": {
   "display_name": "Python 3",
   "language": "python",
   "name": "python3"
  },
  "language_info": {
   "codemirror_mode": {
    "name": "ipython",
    "version": 3
   },
   "file_extension": ".py",
   "mimetype": "text/x-python",
   "name": "python",
   "nbconvert_exporter": "python",
   "pygments_lexer": "ipython3",
   "version": "3.12.4"
  }
 },
 "nbformat": 4,
 "nbformat_minor": 5
}
