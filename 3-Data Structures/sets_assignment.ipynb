{
 "cells": [
  {
   "cell_type": "markdown",
   "metadata": {},
   "source": [
    "# Module 3: Data Structures Assignments\n",
    "## Lesson 3.3: Sets\n",
    "### Assignment 1: Creating and Accessing Sets\n",
    "\n",
    "Create a set with the first 10 positive integers. Print the set.\n",
    "\n",
    "### Assignment 2: Adding and Removing Elements\n",
    "\n",
    "Add the number 11 to the set created in Assignment 1. Then remove the number 1 from the set. Print the modified set.\n",
    "\n",
    "### Assignment 3: Set Operations\n",
    "\n",
    "Create two sets: one with the first 5 positive integers and another with the first 5 even integers. Perform and print the results of union, intersection, difference, and symmetric difference operations on these sets.\n",
    "\n",
    "### Assignment 4: Set Comprehensions\n",
    "\n",
    "Create a new set containing the squares of the first 10 positive integers using a set comprehension. Print the new set.\n",
    "\n",
    "### Assignment 5: Filtering Sets\n",
    "\n",
    "Create a new set containing only the even numbers from the set created in Assignment 1 using a set comprehension. Print the new set.\n",
    "\n",
    "### Assignment 6: Set Methods\n",
    "\n",
    "Create a set with duplicate elements and remove the duplicates using set methods. Print the modified set.\n",
    "\n",
    "### Assignment 7: Subsets and Supersets\n",
    "\n",
    "Create two sets: one with the first 5 positive integers and another with the first 3 positive integers. Check if the second set is a subset of the first set and if the first set is a superset of the second set. Print the results.\n",
    "\n",
    "### Assignment 8: Frozenset\n",
    "\n",
    "Create a frozenset with the first 5 positive integers. Print the frozenset.\n",
    "\n",
    "### Assignment 9: Set and List Conversion\n",
    "\n",
    "Create a set with the first 5 positive integers. Convert it to a list, append the number 6, and convert it back to a set. Print the resulting set.\n",
    "\n",
    "### Assignment 10: Set and Dictionary\n",
    "\n",
    "Create a dictionary with set keys and integer values. Print the dictionary.\n",
    "\n",
    "### Assignment 11: Iterating Over Sets\n",
    "\n",
    "Create a set and iterate over the elements, printing each element.\n",
    "\n",
    "### Assignment 12: Removing Elements from Sets\n",
    "\n",
    "Create a set and remove elements from it until it is empty. Print the set after each removal.\n",
    "\n",
    "### Assignment 13: Set Symmetric Difference Update\n",
    "\n",
    "Create two sets and update the first set with the symmetric difference of the two sets. Print the modified first set.\n",
    "\n",
    "### Assignment 14: Set Membership Testing\n",
    "\n",
    "Create a set and test if certain elements are present in the set. Print the results.\n",
    "\n",
    "### Assignment 15: Set of Tuples\n",
    "\n",
    "Create a set containing tuples, where each tuple contains two elements. Print the set."
   ]
  },
  {
   "cell_type": "code",
   "execution_count": 12,
   "id": "dc93189a",
   "metadata": {},
   "outputs": [
    {
     "name": "stdout",
     "output_type": "stream",
     "text": [
      "{1, 2, 3, 4, 5, 6, 7, 8, 9, 10}\n"
     ]
    }
   ],
   "source": [
    "# 1.\n",
    "set_1 = set(range(1, 11))\n",
    "print(set_1)"
   ]
  },
  {
   "cell_type": "code",
   "execution_count": 7,
   "id": "276ddd5b",
   "metadata": {},
   "outputs": [
    {
     "name": "stdout",
     "output_type": "stream",
     "text": [
      "After adding 11:  {1, 2, 3, 4, 5, 6, 7, 8, 9, 10, 11}\n",
      "After removing 11:  {1, 2, 3, 4, 5, 6, 7, 8, 9, 10}\n"
     ]
    }
   ],
   "source": [
    "# 2.\n",
    "set_1.add(11)\n",
    "print(\"After adding 11: \", set_1)\n",
    "set_1.remove(11)\n",
    "print(\"After removing 11: \", set_1)"
   ]
  },
  {
   "cell_type": "code",
   "execution_count": 4,
   "id": "d9442aa0",
   "metadata": {},
   "outputs": [
    {
     "name": "stdout",
     "output_type": "stream",
     "text": [
      "Union:  {1, 2, 3, 4, 5, 6, 8, 10}\n",
      "Intersection:  {2, 4}\n",
      "Difference (set_one - set_two):  {1, 3, 5}\n",
      "Symmetric difference:  {1, 3, 5, 6, 8, 10}\n"
     ]
    }
   ],
   "source": [
    "# 3.\n",
    "set_one = set(range(1, 6))\n",
    "set_two = set(range(2, 11, 2))\n",
    "\n",
    "print(\"Union: \", set_one.union(set_two))\n",
    "print(\"Intersection: \", set_one.intersection(set_two))\n",
    "print(\"Difference (set_one - set_two): \", set_one.difference(set_two))\n",
    "print(\"Symmetric difference: \", set_one.symmetric_difference(set_two))"
   ]
  },
  {
   "cell_type": "code",
   "execution_count": 13,
   "id": "e1ff002c",
   "metadata": {},
   "outputs": [
    {
     "name": "stdout",
     "output_type": "stream",
     "text": [
      "{64, 1, 4, 36, 100, 9, 16, 49, 81, 25}\n"
     ]
    }
   ],
   "source": [
    "# 4.\n",
    "sqrt_set = {i**2 for i in set_1}\n",
    "print(sqrt_set)"
   ]
  },
  {
   "cell_type": "code",
   "execution_count": 15,
   "id": "f3e06471",
   "metadata": {},
   "outputs": [
    {
     "name": "stdout",
     "output_type": "stream",
     "text": [
      "{2, 4, 6, 8, 10}\n"
     ]
    }
   ],
   "source": [
    "# 5.\n",
    "sqrt_set = {i for i in set_1 if i%2==0}\n",
    "print(sqrt_set)"
   ]
  },
  {
   "cell_type": "code",
   "execution_count": 17,
   "id": "4c828528",
   "metadata": {},
   "outputs": [
    {
     "name": "stdout",
     "output_type": "stream",
     "text": [
      "{1, 2, 3}\n"
     ]
    }
   ],
   "source": [
    "# 6.\n",
    "set_with_duplicates = [1, 1, 2, 3]\n",
    "set_without_duplicates = set(set_with_duplicates)\n",
    "print(set_without_duplicates)"
   ]
  },
  {
   "cell_type": "code",
   "execution_count": 22,
   "id": "e91de192",
   "metadata": {},
   "outputs": [
    {
     "name": "stdout",
     "output_type": "stream",
     "text": [
      "True\n",
      "True\n"
     ]
    }
   ],
   "source": [
    "# 7.\n",
    "set_one = set(range(1, 6))\n",
    "set_two = set(range(1, 4))\n",
    "\n",
    "print(set_two.issubset(set_one))\n",
    "print(set_one.issuperset(set_two))"
   ]
  },
  {
   "cell_type": "code",
   "execution_count": 20,
   "id": "8f223cdd",
   "metadata": {},
   "outputs": [
    {
     "name": "stdout",
     "output_type": "stream",
     "text": [
      "frozenset({1, 2, 3, 4, 5})\n"
     ]
    }
   ],
   "source": [
    "# 8.\n",
    "frozenset_1 = frozenset(range(1, 6))\n",
    "print(frozenset_1)"
   ]
  },
  {
   "cell_type": "code",
   "execution_count": 6,
   "id": "82f7994a",
   "metadata": {},
   "outputs": [
    {
     "name": "stdout",
     "output_type": "stream",
     "text": [
      "{1, 2, 3, 4, 5, 6}\n"
     ]
    }
   ],
   "source": [
    "# 9.\n",
    "set_one = set(range(1, 6))\n",
    "list_one = list(set_one)\n",
    "list_one.append(6)\n",
    "set_one = set(list_one)\n",
    "print(set_one)"
   ]
  },
  {
   "cell_type": "code",
   "execution_count": 9,
   "id": "0e89e1d3",
   "metadata": {},
   "outputs": [
    {
     "name": "stdout",
     "output_type": "stream",
     "text": [
      "{frozenset({0}): 0, frozenset({1}): 1, frozenset({2}): 2, frozenset({3}): 3, frozenset({4}): 4, frozenset({5}): 5, frozenset({6}): 6, frozenset({7}): 7, frozenset({8}): 8, frozenset({9}): 9}\n"
     ]
    }
   ],
   "source": [
    "# 10.\n",
    "# dict_one = {set(i): i for i in range(10)}\n",
    "## Sets are mutable, so they can't be used as keys in a dictionary.\n",
    "## Just frozenset is immutable, so it can be used as a key in a dictionary.\n",
    "dict_one = {frozenset([i]): i for i in range(10)}\n",
    "print(dict_one)"
   ]
  },
  {
   "cell_type": "code",
   "execution_count": 39,
   "id": "4f79eacd",
   "metadata": {},
   "outputs": [
    {
     "name": "stdout",
     "output_type": "stream",
     "text": [
      "love now is Python with Severyn in\n",
      "\n",
      "or:\n",
      "\n",
      "love\n",
      "now\n",
      "is\n",
      "Python\n",
      "with\n",
      "Severyn\n",
      "in\n"
     ]
    }
   ],
   "source": [
    "# 11.\n",
    "new_set = {\"Severyn\", \"is\" , \"in\", \"love\", \"with\", \"Python\", \"now\"}\n",
    "print(*new_set, end='\\n\\nor:\\n\\n')\n",
    "for i in new_set: print(i)"
   ]
  },
  {
   "cell_type": "code",
   "execution_count": 11,
   "id": "61e4d354",
   "metadata": {},
   "outputs": [
    {
     "name": "stdout",
     "output_type": "stream",
     "text": [
      "Before removing:  {'This', 'by', 'one', 'will', 'disappear'}\n",
      "After removing:  set()\n"
     ]
    }
   ],
   "source": [
    "# 12.\n",
    "new_set = {\"This\", \"will\", \"disappear\", \"one\", \"by\", \"one\"}\n",
    "print(\"Before removing: \", new_set)\n",
    "\n",
    "while new_set:\n",
    "    new_set.pop()\n",
    "    \n",
    "print(\"After removing: \", new_set)"
   ]
  },
  {
   "cell_type": "code",
   "execution_count": 13,
   "id": "91f8caef",
   "metadata": {},
   "outputs": [
    {
     "name": "stdout",
     "output_type": "stream",
     "text": [
      "{1, 2, 3, 6, 7, 8}\n"
     ]
    }
   ],
   "source": [
    "# 13.\n",
    "set_one = set(range(1, 6))\n",
    "set_two = set(range(4, 9))\n",
    "\n",
    "set_one.symmetric_difference_update(set_two)\n",
    "print(set_one)"
   ]
  },
  {
   "cell_type": "code",
   "execution_count": 16,
   "id": "238b9768",
   "metadata": {},
   "outputs": [
    {
     "name": "stdout",
     "output_type": "stream",
     "text": [
      "Is 1 in set_one?  True\n",
      "Is 1 in set_one?  True\n",
      "Is 10 in set_one?  False\n"
     ]
    }
   ],
   "source": [
    "# 14.\n",
    "set_one = set(range(1, 6))\n",
    "\n",
    "print(\"Is 1 in set_one? \", 1 in set_one)\n",
    "print(\"Is 1 in set_one? \", 5 in set_one)\n",
    "print(\"Is 10 in set_one? \", 10 in set_one)"
   ]
  },
  {
   "cell_type": "code",
   "execution_count": 19,
   "id": "22777253",
   "metadata": {},
   "outputs": [
    {
     "name": "stdout",
     "output_type": "stream",
     "text": [
      "{(0, 1), (1, 0), (1, 1), (0, 0)}\n"
     ]
    }
   ],
   "source": [
    "# 15.\n",
    "set_one = {(i, j) for i in range(2) for j in range(2)}\n",
    "print(set_one)"
   ]
  }
 ],
 "metadata": {
  "kernelspec": {
   "display_name": "Python 3",
   "language": "python",
   "name": "python3"
  },
  "language_info": {
   "codemirror_mode": {
    "name": "ipython",
    "version": 3
   },
   "file_extension": ".py",
   "mimetype": "text/x-python",
   "name": "python",
   "nbconvert_exporter": "python",
   "pygments_lexer": "ipython3",
   "version": "3.12.4"
  }
 },
 "nbformat": 4,
 "nbformat_minor": 5
}
