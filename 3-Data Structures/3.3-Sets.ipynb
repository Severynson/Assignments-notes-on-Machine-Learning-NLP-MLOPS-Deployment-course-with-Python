{
 "cells": [
  {
   "cell_type": "markdown",
   "metadata": {},
   "source": [
    "### Ways to create a set"
   ]
  },
  {
   "cell_type": "code",
   "execution_count": 14,
   "metadata": {},
   "outputs": [
    {
     "name": "stdout",
     "output_type": "stream",
     "text": [
      "{1, 2, 3, 4, 5, 6, 7}\n"
     ]
    }
   ],
   "source": [
    "my_set = {1, 2, 3, 4, 5}\n",
    "my_set = set([1, 2, 3, 4, 5, 6])\n",
    "my_set = set((1, 2, 3, 4, 5, 6, 7))\n",
    "print(my_set)"
   ]
  },
  {
   "cell_type": "code",
   "execution_count": 1,
   "metadata": {},
   "outputs": [
    {
     "name": "stdout",
     "output_type": "stream",
     "text": [
      "<class 'set'>\n"
     ]
    }
   ],
   "source": [
    "my_empty_set = set()\n",
    "print(type(my_empty_set))"
   ]
  },
  {
   "cell_type": "code",
   "execution_count": 11,
   "metadata": {},
   "outputs": [
    {
     "name": "stdout",
     "output_type": "stream",
     "text": [
      "{1, 2, 3, 4, 5, 6}\n"
     ]
    }
   ],
   "source": [
    "\n",
    "print(my_empty_set)"
   ]
  },
  {
   "cell_type": "markdown",
   "metadata": {},
   "source": [
    "### Adding and removing elements"
   ]
  },
  {
   "cell_type": "code",
   "execution_count": 47,
   "metadata": {},
   "outputs": [
    {
     "name": "stdout",
     "output_type": "stream",
     "text": [
      "True == 1 -->  True\n",
      "{False, 1, None, 'Severyn'}\n"
     ]
    }
   ],
   "source": [
    "my_set = (\n",
    "    set()\n",
    ")  # \"{}\" notation doesn't work for creation of an empty set, it will be read by the compiler as a dictionary.\n",
    "my_set.add(1)\n",
    "my_set.add(\"Severyn\")\n",
    "my_set.add(False)\n",
    "my_set.add(None)\n",
    "\n",
    "print(\n",
    "    \"True == 1 --> \", True == 1\n",
    ")  # In Python, True is equivalent to the integer 1, and False is equivalent to the integer 0.\n",
    "my_set.add(True)  # So it is impossible to add True to the set which already contains 1,\n",
    "my_set.add(0)  # or 0 if it already contains False;\n",
    "my_set.add(1.0)  # The same with floats 1.0 and 0.0 ...\n",
    "my_set.add(0.0)\n",
    "# You can add just one of the following: 1 or 1.0 or True & 0 or 0.0 or False.\n",
    "\n",
    "\n",
    "print(my_set)"
   ]
  },
  {
   "cell_type": "markdown",
   "metadata": {},
   "source": [
    "### Typical set operations"
   ]
  },
  {
   "cell_type": "code",
   "execution_count": 14,
   "metadata": {},
   "outputs": [
    {
     "name": "stdout",
     "output_type": "stream",
     "text": [
      "{1, 2, 3, 4, 5, 6, 7, 8}\n",
      "{4, 5}\n",
      "{1, 2, 3}\n",
      "{1, 2, 3, 6, 7, 8}\n",
      "Set 1 was:  {1, 2, 3, 4, 5}\n",
      "Set 1 after intersection_update is now:  {4, 5}\n",
      "True\n",
      "True\n"
     ]
    }
   ],
   "source": [
    "set_1 = {1, 2, 3, 4, 5}\n",
    "set_2 = {4, 5, 6, 7, 8}\n",
    "\n",
    "print(set_1.union(set_2))\n",
    "print(set_1.intersection(set_2))\n",
    "print(set_1.difference(set_2))  # set_1 - set_2, or in other words, elements that are in set_1 but not in set_2.\n",
    "print(set_1.symmetric_difference(set_2))  # elements that are in set_1 or set_2 but not in both.\n",
    "print(\"Set 1 was: \", set_1)\n",
    "set_1.intersection_update(set_2)  # updates set_1 by keeping only the elements that are in both set_1 and set_2.\n",
    "print(\"Set 1 after intersection_update is now: \", set_1)\n",
    "\n",
    "### Subsets and Supersets\n",
    "set_1 = {1, 2, 3, 4, 5}\n",
    "set_2 = {1, 2, 3}\n",
    "print(set_2.issubset(set_1)) # True, because all elements of set_2 are in set_1.\n",
    "print(set_1.issuperset(set_2)) # True, because all elements of set_1 are in set_2.\n"
   ]
  },
  {
   "cell_type": "markdown",
   "metadata": {},
   "source": [
    "### Frozen sets"
   ]
  },
  {
   "cell_type": "code",
   "execution_count": 13,
   "metadata": {},
   "outputs": [
    {
     "name": "stdout",
     "output_type": "stream",
     "text": [
      "frozenset({1, 2, 3, 4, 5})\n"
     ]
    }
   ],
   "source": [
    "frozen_set = frozenset([1, 2, 3, 4, 5])\n",
    "print(frozen_set)\n",
    "# frozen_set.add(6)  # This will raise an error because frozen sets are immutable."
   ]
  },
  {
   "cell_type": "markdown",
   "metadata": {},
   "source": [
    "### When sets are getting useful"
   ]
  },
  {
   "cell_type": "code",
   "execution_count": 29,
   "metadata": {},
   "outputs": [
    {
     "name": "stdout",
     "output_type": "stream",
     "text": [
      "Python is a powerful language. Python is fun.\n",
      "is powerful a fun. Python language.\n"
     ]
    }
   ],
   "source": [
    "# Sets are useful to remove duplicated words from a string:\n",
    "text = \"Python is a powerful language. Python is fun.\"\n",
    "print(text)\n",
    "words = text.split()\n",
    "words_set = set(words)\n",
    "text_without_duplicates = \" \".join(words_set)\n",
    "print(text_without_duplicates)\n"
   ]
  }
 ],
 "metadata": {
  "kernelspec": {
   "display_name": "base",
   "language": "python",
   "name": "python3"
  },
  "language_info": {
   "codemirror_mode": {
    "name": "ipython",
    "version": 3
   },
   "file_extension": ".py",
   "mimetype": "text/x-python",
   "name": "python",
   "nbconvert_exporter": "python",
   "pygments_lexer": "ipython3",
   "version": "3.12.4"
  }
 },
 "nbformat": 4,
 "nbformat_minor": 2
}
