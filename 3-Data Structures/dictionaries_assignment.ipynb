{
 "cells": [
  {
   "cell_type": "markdown",
   "metadata": {},
   "source": [
    "# Module 3: Data Structures Assignments\n",
    "## Lesson 3.4: Dictionaries\n",
    "### Assignment 1: Creating and Accessing Dictionaries\n",
    "\n",
    "Create a dictionary with the first 10 positive integers as keys and their squares as values. Print the dictionary.\n",
    "\n",
    "### Assignment 2: Accessing Dictionary Elements\n",
    "\n",
    "Print the value of the key 5 and the keys of the dictionary created in Assignment 1.\n",
    "\n",
    "### Assignment 3: Dictionary Methods\n",
    "\n",
    "Add a new key-value pair (11, 121) to the dictionary created in Assignment 1 and then remove the key-value pair with key 1. Print the modified dictionary.\n",
    "\n",
    "### Assignment 4: Iterating Over Dictionaries\n",
    "\n",
    "Iterate over the dictionary created in Assignment 1 and print each key-value pair.\n",
    "\n",
    "### Assignment 5: Dictionary Comprehensions\n",
    "\n",
    "Create a new dictionary containing the cubes of the first 10 positive integers using a dictionary comprehension. Print the new dictionary.\n",
    "\n",
    "### Assignment 6: Merging Dictionaries\n",
    "\n",
    "Create two dictionaries: one with keys as the first 5 positive integers and values as their squares, and another with keys as the next 5 positive integers and values as their squares. Merge these dictionaries into a single dictionary and print it.\n",
    "\n",
    "### Assignment 7: Nested Dictionaries\n",
    "\n",
    "Create a nested dictionary representing a student with keys 'name', 'age', 'grades', where 'grades' is another dictionary with keys 'math', 'science', and 'english'. Print the nested dictionary.\n",
    "\n",
    "### Assignment 8: Dictionary of Lists\n",
    "\n",
    "Create a dictionary where the keys are the first 5 positive integers and the values are lists containing the first 5 multiples of the key. Print the dictionary.\n",
    "\n",
    "### Assignment 9: Dictionary of Tuples\n",
    "\n",
    "Create a dictionary where the keys are the first 5 positive integers and the values are tuples containing the key and its square. Print the dictionary.\n",
    "\n",
    "### Assignment 10: Dictionary and List Conversion\n",
    "\n",
    "Create a dictionary with the first 5 positive integers as keys and their squares as values. Convert the dictionary to a list of tuples and print it.\n",
    "\n",
    "### Assignment 11: Dictionary Filtering\n",
    "\n",
    "Create a dictionary with the first 10 positive integers as keys and their squares as values. Create a new dictionary containing only the key-value pairs where the key is even. Print the new dictionary.\n",
    "\n",
    "### Assignment 12: Dictionary Key and Value Transformation\n",
    "\n",
    "Create a dictionary with the first 5 positive integers as keys and their squares as values. Create a new dictionary with keys and values swapped. Print the new dictionary.\n",
    "\n",
    "### Assignment 13: Default Dictionary\n",
    "\n",
    "Create a default dictionary where each key has a default value of an empty list. Add some elements to the lists and print the dictionary.\n",
    "\n",
    "### Assignment 14: Counting with Dictionaries\n",
    "\n",
    "Write a function that takes a string and returns a dictionary with the count of each character in the string. Print the dictionary.\n",
    "\n",
    "### Assignment 15: Dictionary and JSON\n",
    "\n",
    "Create a dictionary representing a book with keys 'title', 'author', 'year', and 'genre'. Convert the dictionary to a JSON string and print it."
   ]
  },
  {
   "cell_type": "code",
   "execution_count": 34,
   "id": "98dd4b4d",
   "metadata": {},
   "outputs": [
    {
     "name": "stdout",
     "output_type": "stream",
     "text": [
      "{1: 1, 2: 4, 3: 9, 4: 16, 5: 25, 6: 36, 7: 49, 8: 64, 9: 81, 10: 100}\n"
     ]
    }
   ],
   "source": [
    "# 1.\n",
    "dict_1 = {i: i**2 for i in range(1, 11)}\n",
    "\n",
    "print(dict_1)"
   ]
  },
  {
   "cell_type": "code",
   "execution_count": 13,
   "id": "fbd5deb9",
   "metadata": {},
   "outputs": [
    {
     "name": "stdout",
     "output_type": "stream",
     "text": [
      "Value of the key 5: 25\n",
      "Keys of the dict_1: 1 2 3 4 5 6 7 8 9 10\n"
     ]
    }
   ],
   "source": [
    "# 2.\n",
    "print(\"Value of the key 5:\", dict_1.get(5))\n",
    "print(\"Keys of the dict_1:\", *dict_1.keys())"
   ]
  },
  {
   "cell_type": "code",
   "execution_count": 45,
   "id": "d2d111c4",
   "metadata": {},
   "outputs": [
    {
     "name": "stdout",
     "output_type": "stream",
     "text": [
      "dict_1 before adding and deleting: {1: 1, 2: 4, 3: 9, 4: 16, 5: 25, 6: 36, 7: 49, 8: 64, 9: 81, 10: 100}\n",
      "dict_1 after adding: {1: 1, 2: 4, 3: 9, 4: 16, 5: 25, 6: 36, 7: 49, 8: 64, 9: 81, 10: 100, 11: 121}\n",
      "Write something here to avoid error if the key is not found.\n",
      "dict_1 after deleting: {1: 1, 2: 4, 3: 9, 4: 16, 5: 25, 6: 36, 7: 49, 8: 64, 9: 81, 10: 100}\n"
     ]
    }
   ],
   "source": [
    "# 3.\n",
    "print(\"dict_1 before adding and deleting:\", dict_1)\n",
    "dict_1[11] = 121\n",
    "print(\"dict_1 after adding:\", dict_1)\n",
    "del dict_1[11]\n",
    "result = dict_1.pop(11, \"Write something here to avoid error if the key is not found.\")\n",
    "print(result)\n",
    "print(\"dict_1 after deleting:\", dict_1)"
   ]
  },
  {
   "cell_type": "code",
   "execution_count": 47,
   "id": "eb75aad9",
   "metadata": {},
   "outputs": [
    {
     "name": "stdout",
     "output_type": "stream",
     "text": [
      "1: 1, 2: 4, 3: 9, 4: 16, 5: 25, 6: 36, 7: 49, 8: 64, 9: 81, 10: 100, "
     ]
    }
   ],
   "source": [
    "# 4.\n",
    "for key, val in dict_1.items():\n",
    "    print(f\"{key}: {val}\", end=\", \")"
   ]
  },
  {
   "cell_type": "code",
   "execution_count": 51,
   "id": "405f7694",
   "metadata": {},
   "outputs": [
    {
     "name": "stdout",
     "output_type": "stream",
     "text": [
      "{1: 1, 2: 8, 3: 27, 4: 64, 5: 125, 6: 216, 7: 343, 8: 512, 9: 729, 10: 1000}\n"
     ]
    }
   ],
   "source": [
    "# 5.\n",
    "new_dict = {i: i**3 for i in range(1, 11)}\n",
    "print(new_dict)"
   ]
  },
  {
   "cell_type": "code",
   "execution_count": 58,
   "id": "64447800",
   "metadata": {},
   "outputs": [
    {
     "name": "stdout",
     "output_type": "stream",
     "text": [
      "{1: 1, 2: 4, 3: 9, 4: 16, 5: 25, 6: 36, 7: 49, 8: 64, 9: 81, 10: 100}\n"
     ]
    }
   ],
   "source": [
    "# 6.\n",
    "dict_one = {i: i**2 for i in range(1, 6)}\n",
    "dict_two = {i: i**2 for i in range(6, 11)}\n",
    "\n",
    "merged_dict = {**dict_one, **dict_two}\n",
    "\n",
    "print(merged_dict)"
   ]
  },
  {
   "cell_type": "code",
   "execution_count": 38,
   "id": "99892d0f",
   "metadata": {},
   "outputs": [
    {
     "name": "stdout",
     "output_type": "stream",
     "text": [
      "\n",
      "name: Severyn Kurach\n",
      "age: 22\n",
      "math: 90\n",
      "science: 85\n",
      "english: 80\n",
      "\n",
      "name: Jane Doe\n",
      "age: 22\n",
      "math: 82\n",
      "science: 92\n",
      "english: 89\n"
     ]
    }
   ],
   "source": [
    "# 7.\n",
    "students = {\n",
    "    \"Severyn\": {\n",
    "        \"name\": \"Severyn Kurach\",\n",
    "        \"age\": 22,\n",
    "        \"grades\": {\"math\": 90, \"science\": 85, \"english\": 80},\n",
    "    },\n",
    "    \"Jane Doe\": {\n",
    "        \"name\": \"Jane Doe\",\n",
    "        \"age\": 22,\n",
    "        \"grades\": {\"math\": 82, \"science\": 92, \"english\": 89},\n",
    "    },\n",
    "}\n",
    "\n",
    "for student in students:\n",
    "    print()\n",
    "    for key, value in students[student].items():\n",
    "        if isinstance(value, dict):\n",
    "            for key_inner, value_inner in value.items():\n",
    "                print(f\"{key_inner}: {value_inner}\")\n",
    "        else:\n",
    "            print(f\"{key}: {value}\")"
   ]
  },
  {
   "cell_type": "code",
   "execution_count": null,
   "id": "640a1024",
   "metadata": {},
   "outputs": [],
   "source": [
    "# 8."
   ]
  },
  {
   "cell_type": "code",
   "execution_count": null,
   "id": "c5e5bc21",
   "metadata": {},
   "outputs": [],
   "source": [
    "# 9."
   ]
  },
  {
   "cell_type": "code",
   "execution_count": null,
   "id": "8fc596ba",
   "metadata": {},
   "outputs": [],
   "source": [
    "# 10."
   ]
  },
  {
   "cell_type": "code",
   "execution_count": null,
   "id": "0fa0b54e",
   "metadata": {},
   "outputs": [],
   "source": [
    "# 11."
   ]
  },
  {
   "cell_type": "code",
   "execution_count": null,
   "id": "3eb161de",
   "metadata": {},
   "outputs": [],
   "source": [
    "# 12."
   ]
  },
  {
   "cell_type": "code",
   "execution_count": null,
   "id": "47b87eea",
   "metadata": {},
   "outputs": [],
   "source": [
    "# 13."
   ]
  },
  {
   "cell_type": "code",
   "execution_count": null,
   "id": "e13b7f33",
   "metadata": {},
   "outputs": [],
   "source": [
    "# 14."
   ]
  },
  {
   "cell_type": "code",
   "execution_count": null,
   "id": "634a95b7",
   "metadata": {},
   "outputs": [],
   "source": [
    "# 15."
   ]
  }
 ],
 "metadata": {
  "kernelspec": {
   "display_name": "Python 3",
   "language": "python",
   "name": "python3"
  },
  "language_info": {
   "codemirror_mode": {
    "name": "ipython",
    "version": 3
   },
   "file_extension": ".py",
   "mimetype": "text/x-python",
   "name": "python",
   "nbconvert_exporter": "python",
   "pygments_lexer": "ipython3",
   "version": "3.12.4"
  }
 },
 "nbformat": 4,
 "nbformat_minor": 5
}
