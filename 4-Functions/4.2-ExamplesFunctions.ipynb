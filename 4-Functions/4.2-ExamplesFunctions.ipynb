{
 "cells": [
  {
   "cell_type": "code",
   "execution_count": 1,
   "metadata": {},
   "outputs": [
    {
     "name": "stdout",
     "output_type": "stream",
     "text": [
      "37.77777777777778\n",
      "212.0\n"
     ]
    }
   ],
   "source": [
    "def convert_temperature(temp, unit):\n",
    "    if unit == \"C\":\n",
    "        return (temp - 32) * 5 / 9\n",
    "    elif unit == \"F\":\n",
    "        return temp * 9 / 5 + 32\n",
    "    else:\n",
    "        return \"Invalid unit\"\n",
    "\n",
    "\n",
    "print(convert_temperature(100, \"C\"))\n",
    "print(convert_temperature(100, \"F\"))"
   ]
  },
  {
   "cell_type": "code",
   "execution_count": 15,
   "metadata": {},
   "outputs": [
    {
     "name": "stdout",
     "output_type": "stream",
     "text": [
      "False\n",
      "False\n",
      "True\n"
     ]
    }
   ],
   "source": [
    "def is_strong_password(password):\n",
    "    \"\"\"This function checks if the password is strong.\"\"\"\n",
    "    if len(password) < 8:\n",
    "        return False\n",
    "    if (\n",
    "        not any(char.isdigit() for char in password)\n",
    "        or not any(char.islower() for char in password)\n",
    "        or not any(char.isupper() for char in password)\n",
    "    ):\n",
    "        return False\n",
    "    else:\n",
    "        return True\n",
    "\n",
    "\n",
    "print(is_strong_password(\"password\"))\n",
    "print(is_strong_password(\"password123\"))\n",
    "print(is_strong_password(\"Password123\"))"
   ]
  },
  {
   "cell_type": "markdown",
   "metadata": {},
   "source": [
    "### Reading a file"
   ]
  },
  {
   "cell_type": "code",
   "execution_count": 17,
   "metadata": {},
   "outputs": [
    {
     "name": "stdout",
     "output_type": "stream",
     "text": [
      "{'hello': 1, 'world': 1, 'how': 1, 'are': 1, 'you': 1, 'my': 1, 'name': 1, 'is': 1, 'severyn': 1, 'i': 3, 'am': 3, '22': 1, 'years': 1, 'old': 1, 'a': 1, 'student': 1, 'at': 1, 'the': 2, 'university': 1, 'of': 1, 'pacific': 1, 'learning': 2, 'machine': 1, 'with': 1, 'python': 1}\n"
     ]
    }
   ],
   "source": [
    "def count_word_frequency(file_path):\n",
    "    word_count = {}\n",
    "\n",
    "    with open(file_path, \"r\") as file:\n",
    "        for line in file:\n",
    "            words=line.split()\n",
    "            for word in words:\n",
    "                word = word.lower().strip('.,!?;:\"\\'')\n",
    "                word_count[word] = word_count.get(word, 0) + 1\n",
    "    return word_count\n",
    "\n",
    "print(count_word_frequency(\"sample.txt\"))"
   ]
  }
 ],
 "metadata": {
  "kernelspec": {
   "display_name": "base",
   "language": "python",
   "name": "python3"
  },
  "language_info": {
   "codemirror_mode": {
    "name": "ipython",
    "version": 3
   },
   "file_extension": ".py",
   "mimetype": "text/x-python",
   "name": "python",
   "nbconvert_exporter": "python",
   "pygments_lexer": "ipython3",
   "version": "3.12.4"
  }
 },
 "nbformat": 4,
 "nbformat_minor": 2
}
