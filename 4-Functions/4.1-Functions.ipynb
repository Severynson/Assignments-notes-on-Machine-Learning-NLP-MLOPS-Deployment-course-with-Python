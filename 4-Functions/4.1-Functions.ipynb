{
 "cells": [
  {
   "cell_type": "code",
   "execution_count": 2,
   "metadata": {},
   "outputs": [
    {
     "data": {
      "text/plain": [
       "'Some value'"
      ]
     },
     "execution_count": 2,
     "metadata": {},
     "output_type": "execute_result"
    }
   ],
   "source": [
    "# syntax of a function\n",
    "def my_function():\n",
    "    \"\"\"This is a docstring - it describes what the function does and appears when you hover over the function name.\"\"\"\n",
    "    return \"Some value\"\n",
    "\n",
    "my_function()"
   ]
  },
  {
   "cell_type": "markdown",
   "metadata": {},
   "source": [
    "### Default parameters in Python\n"
   ]
  },
  {
   "cell_type": "code",
   "execution_count": 3,
   "metadata": {},
   "outputs": [
    {
     "name": "stdout",
     "output_type": "stream",
     "text": [
      "Hello, user!\n",
      "Hello, Severyn!\n"
     ]
    }
   ],
   "source": [
    "def greet_user(name=\"user\"):\n",
    "    print(f\"Hello, {name}!\")\n",
    "\n",
    "greet_user()\n",
    "greet_user(\"Severyn\")"
   ]
  },
  {
   "cell_type": "markdown",
   "metadata": {},
   "source": [
    "### Variables Length Arguments\n",
    "### Positional and Keyword Arguments"
   ]
  },
  {
   "cell_type": "code",
   "execution_count": 7,
   "metadata": {},
   "outputs": [
    {
     "name": "stdout",
     "output_type": "stream",
     "text": [
      "Positional Arguments:\n",
      "3\n",
      "3\n",
      "3\n",
      "\n",
      "Keyword Arguments:\n",
      "3\n",
      "3\n",
      "\n",
      "Arbitrary Arguments:\n",
      "15\n",
      "\n",
      "Arbitrary Keyword Arguments:\n",
      "Key: dict_keys(['a', 'b', 'c']) Value: dict_values([1, 2, 3])\n",
      "a: 1\n",
      "b: 2\n",
      "c: 3\n",
      "6\n"
     ]
    }
   ],
   "source": [
    "# Positional Arguments\n",
    "def add_numbers(a, b):\n",
    "    return a + b\n",
    "\n",
    "print(\"Positional Arguments:\")\n",
    "print(add_numbers(1, 2))\n",
    "print(add_numbers(a=1, b=2))\n",
    "print(add_numbers(b=2, a=1))\n",
    "\n",
    "# Keyword Arguments\n",
    "print(\"\\nKeyword Arguments:\")\n",
    "def add_numbers_2(a, b):\n",
    "    return a + b\n",
    "\n",
    "print(add_numbers_2(a=1, b=2))\n",
    "print(add_numbers_2(b=2, a=1))\n",
    "\n",
    "# Arbitrary Arguments\n",
    "def add_numbers_3(*args):\n",
    "    return sum(args)\n",
    "\n",
    "print(\"\\nArbitrary Arguments:\")\n",
    "print(add_numbers_3(1, 2, 3, 4, 5))\n",
    "\n",
    "# Arbitrary Keyword Arguments\n",
    "def add_numbers_4(**kwargs):\n",
    "    print(f\"Key: {kwargs.keys()} Value: {kwargs.values()}\")\n",
    "    for key, value in kwargs.items():\n",
    "        print(f\"{key}: {value}\")\n",
    "    return sum(kwargs.values())\n",
    "\n",
    "print(\"\\nArbitrary Keyword Arguments:\")\n",
    "print(add_numbers_4(a=1, b=2, c=3))\n"
   ]
  }
 ],
 "metadata": {
  "kernelspec": {
   "display_name": "base",
   "language": "python",
   "name": "python3"
  },
  "language_info": {
   "codemirror_mode": {
    "name": "ipython",
    "version": 3
   },
   "file_extension": ".py",
   "mimetype": "text/x-python",
   "name": "python",
   "nbconvert_exporter": "python",
   "pygments_lexer": "ipython3",
   "version": "3.12.4"
  }
 },
 "nbformat": 4,
 "nbformat_minor": 2
}
