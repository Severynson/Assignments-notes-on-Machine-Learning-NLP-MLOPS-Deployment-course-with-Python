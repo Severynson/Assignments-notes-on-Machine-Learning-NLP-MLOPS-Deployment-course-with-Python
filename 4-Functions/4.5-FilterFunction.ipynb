{
 "cells": [
  {
   "cell_type": "code",
   "execution_count": 4,
   "metadata": {},
   "outputs": [
    {
     "name": "stdout",
     "output_type": "stream",
     "text": [
      "0 2 4 6 8\n"
     ]
    }
   ],
   "source": [
    "is_even = lambda x: x % 2 == 0\n",
    "\n",
    "even_numbers = list(filter(is_even, range(10)))\n",
    "print(*even_numbers)"
   ]
  },
  {
   "cell_type": "markdown",
   "metadata": {},
   "source": [
    "### Lambdas can have more complicated conditions"
   ]
  },
  {
   "cell_type": "code",
   "execution_count": 5,
   "metadata": {},
   "outputs": [
    {
     "name": "stdout",
     "output_type": "stream",
     "text": [
      "6 8\n"
     ]
    }
   ],
   "source": [
    "is_greater_than_five_and_even = lambda x: x > 5 and x%2 == 0\n",
    "\n",
    "greater_than_five_and_even = list(filter(is_greater_than_five_and_even, range(10)))\n",
    "print(*greater_than_five_and_even)"
   ]
  }
 ],
 "metadata": {
  "kernelspec": {
   "display_name": "base",
   "language": "python",
   "name": "python3"
  },
  "language_info": {
   "codemirror_mode": {
    "name": "ipython",
    "version": 3
   },
   "file_extension": ".py",
   "mimetype": "text/x-python",
   "name": "python",
   "nbconvert_exporter": "python",
   "pygments_lexer": "ipython3",
   "version": "3.12.4"
  }
 },
 "nbformat": 4,
 "nbformat_minor": 2
}
