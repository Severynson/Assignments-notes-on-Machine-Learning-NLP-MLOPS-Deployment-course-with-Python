{
 "cells": [
  {
   "cell_type": "code",
   "execution_count": 3,
   "metadata": {},
   "outputs": [
    {
     "name": "stdout",
     "output_type": "stream",
     "text": [
      "3\n",
      "Severyn\n"
     ]
    }
   ],
   "source": [
    "lambda x, y: x + y\n",
    "\n",
    "print((lambda x, y: x + y)(1, 2))\n",
    "\n",
    "# Can be assigned to a variable\n",
    "title = lambda x: x.capitalize()\n",
    "\n",
    "print(title(\"severyn\"))\n"
   ]
  },
  {
   "cell_type": "markdown",
   "metadata": {},
   "source": [
    "### Can be passed as an argument to another function"
   ]
  },
  {
   "cell_type": "code",
   "execution_count": 16,
   "metadata": {},
   "outputs": [
    {
     "name": "stdout",
     "output_type": "stream",
     "text": [
      "Addition: 3\n",
      "Multiplication: 6\n",
      "Exponentiation: 8\n",
      "1 4 9 16 25\n"
     ]
    }
   ],
   "source": [
    "add = lambda x, y: x + y\n",
    "multiply = lambda x, y: x * y\n",
    "\n",
    "def do_math(func, x, y):\n",
    "    return func(x, y)\n",
    "\n",
    "print(\"Addition:\", do_math(add, 1, 2))\n",
    "print(\"Multiplication:\", do_math(multiply, 2, 3))\n",
    "print(\"Exponentiation:\", do_math(lambda x, y: x ** y, 2, 3)) # Anonymous lambda function for exponentiation\n",
    "\n",
    "\n",
    "# Usually used with built-in functions like sorted(), filter(), and map()\n",
    "numbers = [1, 2, 3, 4, 5]\n",
    "\n",
    "squared_numbers = list(map(lambda x: x ** 2, numbers))\n",
    "print(*squared_numbers)"
   ]
  }
 ],
 "metadata": {
  "kernelspec": {
   "display_name": "base",
   "language": "python",
   "name": "python3"
  },
  "language_info": {
   "codemirror_mode": {
    "name": "ipython",
    "version": 3
   },
   "file_extension": ".py",
   "mimetype": "text/x-python",
   "name": "python",
   "nbconvert_exporter": "python",
   "pygments_lexer": "ipython3",
   "version": "3.12.4"
  }
 },
 "nbformat": 4,
 "nbformat_minor": 2
}
