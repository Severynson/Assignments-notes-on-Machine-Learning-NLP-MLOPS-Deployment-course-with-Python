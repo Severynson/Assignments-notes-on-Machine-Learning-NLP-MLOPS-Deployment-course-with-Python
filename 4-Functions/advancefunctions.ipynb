{
 "cells": [
  {
   "cell_type": "markdown",
   "metadata": {},
   "source": [
    "# Module 4: Advanced Functions Assignments\n",
    "## Lesson 4.1: Defining Functions\n",
    "### Assignment 1: Fibonacci Sequence with Memoization\n",
    "\n",
    "Define a recursive function to calculate the nth Fibonacci number using memoization. Test the function with different inputs.\n",
    "\n",
    "### Assignment 2: Function with Nested Default Arguments\n",
    "\n",
    "Define a function that takes two arguments, a and b, where b is a dictionary with a default value of an empty dictionary. The function should add a new key-value pair to the dictionary and return it. Test the function with different inputs.\n",
    "\n",
    "### Assignment 3: Function with Variable Keyword Arguments\n",
    "\n",
    "Define a function that takes a variable number of keyword arguments and returns a dictionary containing only those key-value pairs where the value is an integer. Test the function with different inputs.\n",
    "\n",
    "### Assignment 4: Function with Callback\n",
    "\n",
    "Define a function that takes another function as a callback and a list of integers. The function should apply the callback to each integer in the list and return a new list with the results. Test with different callback functions.\n",
    "\n",
    "### Assignment 5: Function that Returns a Function\n",
    "\n",
    "Define a function that returns another function. The returned function should take an integer and return its square. Test the returned function with different inputs.\n",
    "\n",
    "### Assignment 6: Function with Decorators\n",
    "\n",
    "Define a function that calculates the time taken to execute another function. Apply this decorator to a function that performs a complex calculation. Test the decorated function with different inputs.\n",
    "\n",
    "### Assignment 7: Higher-Order Function for Filtering and Mapping\n",
    "\n",
    "Define a higher-order function that takes two functions, a filter function and a map function, along with a list of integers. The higher-order function should first filter the integers using the filter function and then apply the map function to the filtered integers. Test with different filter and map functions.\n",
    "\n",
    "### Assignment 8: Function Composition\n",
    "\n",
    "Define a function that composes two functions, f and g, such that the result is f(g(x)). Test with different functions f and g.\n",
    "\n",
    "### Assignment 9: Partial Function Application\n",
    "\n",
    "Use the functools.partial function to create a new function that multiplies its input by 2. Test the new function with different inputs.\n",
    "\n",
    "### Assignment 10: Function with Error Handling\n",
    "\n",
    "Define a function that takes a list of integers and returns their average. The function should handle any errors that occur (e.g., empty list) and return None in such cases. Test with different inputs.\n",
    "\n",
    "### Assignment 11: Function with Generators\n",
    "\n",
    "Define a function that generates an infinite sequence of Fibonacci numbers. Test by printing the first 10 numbers in the sequence.\n",
    "\n",
    "### Assignment 12: Currying\n",
    "\n",
    "Define a curried function that takes three arguments, one at a time, and returns their product. Test the function by providing arguments one at a time.\n",
    "\n",
    "### Assignment 13: Function with Context Manager\n",
    "\n",
    "Define a function that uses a context manager to write a list of integers to a file. The function should handle any errors that occur during file operations. Test with different lists.\n",
    "\n",
    "### Assignment 14: Function with Multiple Return Types\n",
    "\n",
    "Define a function that takes a list of mixed data types (integers, strings, and floats) and returns three lists: one containing all the integers, one containing all the strings, and one containing all the floats. Test with different inputs.\n",
    "\n",
    "### Assignment 15: Function with State\n",
    "\n",
    "Define a function that maintains state between calls using a mutable default argument. The function should keep track of how many times it has been called. Test by calling the function multiple times."
   ]
  },
  {
   "cell_type": "code",
   "execution_count": 95,
   "id": "298ce56d",
   "metadata": {},
   "outputs": [
    {
     "name": "stdout",
     "output_type": "stream",
     "text": [
      "55\n"
     ]
    }
   ],
   "source": [
    "# 1.\n",
    "calc_fibonacci = lambda x: x if x <= 1 else calc_fibonacci(x-1) + calc_fibonacci(x-2)\n",
    "\n",
    "print(calc_fibonacci(10))"
   ]
  },
  {
   "cell_type": "code",
   "execution_count": 9,
   "id": "fd156e1e",
   "metadata": {},
   "outputs": [
    {
     "name": "stdout",
     "output_type": "stream",
     "text": [
      "{'b': 2, 'a': 1, 'c': 3}\n"
     ]
    }
   ],
   "source": [
    "# 2.\n",
    "update_dict =  lambda a, b=dict(): {**dict(a), **b}\n",
    "\n",
    "some_dict = {'a': 1, 'c': 3}\n",
    "print(update_dict({'b': 2}, some_dict))\n"
   ]
  },
  {
   "cell_type": "code",
   "execution_count": 10,
   "id": "fef51b90",
   "metadata": {},
   "outputs": [
    {
     "name": "stdout",
     "output_type": "stream",
     "text": [
      "{1: 'dummy_value_1', 2: 'dummy_value_2', 3: 'dummy_value_3', 4: 'dummy_value_4', 5: 'dummy_value_5'}\n",
      "{1: 'dummy_value_1', 2: 'dummy_value_2', 3: 'dummy_value_3', 4: 'dummy_value_4', 5: 'dummy_value_5', 6: 'dummy_value_6', 7: 'dummy_value_7', 8: 'dummy_value_8', 9: 'dummy_value_9', 10: 'dummy_value_10'}\n"
     ]
    }
   ],
   "source": [
    "# 3.\n",
    "dict_generator = lambda x: {i+1: f\"dummy_value_{i+1}\" for i in range(x)}\n",
    "\n",
    "print(dict_generator(5))\n",
    "print(dict_generator(10))\n"
   ]
  },
  {
   "cell_type": "code",
   "execution_count": 13,
   "id": "0c9aa55a",
   "metadata": {},
   "outputs": [
    {
     "name": "stdout",
     "output_type": "stream",
     "text": [
      "[1, 4, 9, 16, 25]\n"
     ]
    }
   ],
   "source": [
    "# 4.\n",
    "to_second_power = lambda x: x**2\n",
    "numbers = [1, 2, 3, 4, 5]\n",
    "\n",
    "function_applier = lambda func, list: [func(x) for x in list]\n",
    "\n",
    "print(function_applier(to_second_power, numbers))\n"
   ]
  },
  {
   "cell_type": "code",
   "execution_count": 15,
   "id": "258e57fe",
   "metadata": {},
   "outputs": [
    {
     "name": "stdout",
     "output_type": "stream",
     "text": [
      "25\n"
     ]
    }
   ],
   "source": [
    "# 5.\n",
    "function_returning_function = lambda: lambda x: x**2\n",
    "\n",
    "received_function = function_returning_function()\n",
    "print(received_function(5))"
   ]
  },
  {
   "cell_type": "code",
   "execution_count": 60,
   "id": "4d0b3bcf",
   "metadata": {},
   "outputs": [
    {
     "name": "stdout",
     "output_type": "stream",
     "text": [
      "0.000027 seconds\n"
     ]
    }
   ],
   "source": [
    "# 6.\n",
    "import time\n",
    "\n",
    "def execution_timer(func):\n",
    "    start_time = time.time()\n",
    "    func()\n",
    "    return \"{:.6f}\".format(time.time() - start_time) + \" seconds\"\n",
    "\n",
    "print(execution_timer(lambda: 2**10000))"
   ]
  },
  {
   "cell_type": "code",
   "execution_count": 67,
   "id": "f8e391f5",
   "metadata": {},
   "outputs": [
    {
     "name": "stdout",
     "output_type": "stream",
     "text": [
      "[4, 16, 36, 64, 100]\n"
     ]
    }
   ],
   "source": [
    "# 7.\n",
    "covoluted_func_from_assignment =  lambda func_4_filter, func_4_map, integers_list: list(map(func_4_map, list(filter(func_4_filter, integers_list))))\n",
    "\n",
    "print(covoluted_func_from_assignment(lambda x: x%2==0, lambda x: x**2, [1,2,3,4,5,6,7,8,9,10]))\n"
   ]
  },
  {
   "cell_type": "code",
   "execution_count": 70,
   "id": "34bf3a01",
   "metadata": {},
   "outputs": [
    {
     "name": "stdout",
     "output_type": "stream",
     "text": [
      "36\n",
      "24\n"
     ]
    }
   ],
   "source": [
    "# 8.\n",
    "function_composer = lambda f, g: lambda x: f(g(x))\n",
    "\n",
    "print(function_composer(lambda x: x**2, lambda x: x+1)(5))\n",
    "print(function_composer(lambda x: x*2, lambda x: x+2)(10))\n",
    "\n"
   ]
  },
  {
   "cell_type": "code",
   "execution_count": 82,
   "id": "0b4e87b2",
   "metadata": {},
   "outputs": [
    {
     "name": "stdout",
     "output_type": "stream",
     "text": [
      "True\n",
      "False\n",
      "False\n",
      "\n",
      "False\n",
      "False\n",
      "True\n"
     ]
    }
   ],
   "source": [
    "# 9.\n",
    "from functools import partial\n",
    "\n",
    "is_x_greater_than_y = lambda x, y: x > y\n",
    "\n",
    "less_than_10 = partial(is_x_greater_than_y, x=10)\n",
    "\n",
    "print(less_than_10(y=9))\n",
    "print(less_than_10(y=10))\n",
    "print(less_than_10(y=11), end=\"\\n\\n\")\n",
    "\n",
    "more_than_10 = partial(is_x_greater_than_y, y=10)\n",
    "\n",
    "print(more_than_10(x=9))\n",
    "print(more_than_10(x=10))\n",
    "print(more_than_10(x=11))"
   ]
  },
  {
   "cell_type": "code",
   "execution_count": 96,
   "id": "fa6fbf31",
   "metadata": {},
   "outputs": [
    {
     "name": "stdout",
     "output_type": "stream",
     "text": [
      "4.0\n",
      "None\n"
     ]
    }
   ],
   "source": [
    "# 10.\n",
    "calc_average = lambda *args: sum(args) / len(args) if args else None\n",
    "\n",
    "print(calc_average(2, 4, 6))\n",
    "print(calc_average())"
   ]
  },
  {
   "cell_type": "code",
   "execution_count": 103,
   "id": "91c6996e",
   "metadata": {},
   "outputs": [
    {
     "name": "stdout",
     "output_type": "stream",
     "text": [
      "0\n",
      "1\n",
      "1\n",
      "2\n",
      "3\n",
      "5\n",
      "8\n",
      "13\n",
      "21\n",
      "34\n"
     ]
    },
    {
     "data": {
      "text/plain": [
       "{None}"
      ]
     },
     "execution_count": 103,
     "metadata": {},
     "output_type": "execute_result"
    }
   ],
   "source": [
    "# 11.\n",
    "# using function from assignment 1\n",
    "print_fibonacci_sequence = lambda x: {print(calc_fibonacci(i)) for i in range(x)}\n",
    "\n",
    "print_fibonacci_sequence(10)\n"
   ]
  },
  {
   "cell_type": "code",
   "execution_count": 104,
   "id": "aba9a3ed",
   "metadata": {},
   "outputs": [
    {
     "name": "stdout",
     "output_type": "stream",
     "text": [
      "16\n"
     ]
    }
   ],
   "source": [
    "# 12.\n",
    "curried_function = lambda x: lambda y: lambda z: x*y*z\n",
    "\n",
    "print(curried_function(2)(2)(4))\n"
   ]
  },
  {
   "cell_type": "code",
   "execution_count": 105,
   "id": "8f1b50bb",
   "metadata": {},
   "outputs": [],
   "source": [
    "# 13.\n",
    "def write_to_file(file_name, *integers):\n",
    "    with open(file_name, \"w\") as file:\n",
    "        for integer in integers:\n",
    "            file.write(f\"{integer}\\n\")\n",
    "\n",
    "write_to_file(\"integers.txt\", 1, 2, 3, 4, 5)\n"
   ]
  },
  {
   "cell_type": "code",
   "execution_count": 112,
   "id": "3e866c6c",
   "metadata": {},
   "outputs": [
    {
     "name": "stdout",
     "output_type": "stream",
     "text": [
      "{'integers': [1, 22, 4, 55], 'strings': ['Severyn', 'Kurach'], 'floats': [21.6]}\n"
     ]
    }
   ],
   "source": [
    "# 14.\n",
    "mixed_data_types_filter = lambda *args: {'integers': list(filter(lambda x: isinstance(x, int), args)), 'strings': list(filter(lambda x: isinstance(x, str), args)), 'floats': list(filter(lambda x: isinstance(x, float), args))}\n",
    "\n",
    "print(mixed_data_types_filter(1, \"Severyn\", 21.6, \"Kurach\", 22, 4, 55))"
   ]
  },
  {
   "cell_type": "code",
   "execution_count": 124,
   "id": "c699d6cc",
   "metadata": {},
   "outputs": [
    {
     "name": "stdout",
     "output_type": "stream",
     "text": [
      "My value is 0\n",
      "My value is 1\n",
      "My value is 2\n",
      "My value is 3\n"
     ]
    }
   ],
   "source": [
    "# 15.\n",
    "function_with_state = lambda call_count=[0]: (print(f\"My value is {call_count[0]}\"), call_count.insert(0, call_count[0]+1))[0]\n",
    "\n",
    "function_with_state()\n",
    "function_with_state()\n",
    "function_with_state()\n",
    "function_with_state()"
   ]
  }
 ],
 "metadata": {
  "kernelspec": {
   "display_name": "Python 3",
   "language": "python",
   "name": "python3"
  },
  "language_info": {
   "codemirror_mode": {
    "name": "ipython",
    "version": 3
   },
   "file_extension": ".py",
   "mimetype": "text/x-python",
   "name": "python",
   "nbconvert_exporter": "python",
   "pygments_lexer": "ipython3",
   "version": "3.12.4"
  }
 },
 "nbformat": 4,
 "nbformat_minor": 5
}
