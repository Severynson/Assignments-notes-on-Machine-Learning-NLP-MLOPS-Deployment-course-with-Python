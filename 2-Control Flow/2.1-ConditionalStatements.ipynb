{
 "cells": [
  {
   "cell_type": "markdown",
   "metadata": {},
   "source": [
    "#### If statement in python does have { },\n",
    "#### It uses indentation to define the scope of the block. The block ends at the first unindented line\n",
    "#### However, without linting, it reading the code may be confusing, easy to take it wrong."
   ]
  },
  {
   "cell_type": "code",
   "execution_count": 1,
   "metadata": {},
   "outputs": [
    {
     "name": "stdout",
     "output_type": "stream",
     "text": [
      "The number is positive\n",
      "The number is odd\n"
     ]
    }
   ],
   "source": [
    "num = 1\n",
    "if num > 0:\n",
    "    print(\"The number is positive\")\n",
    "    if num % 2 == 0:\n",
    "        print(\"The number is even\")\n",
    "    else:\n",
    "        print(\"The number is odd\")\n",
    "#\n",
    "#\n",
    "#\n",
    "#\n",
    "else:\n",
    "    print(\"The number is negative\")"
   ]
  },
  {
   "cell_type": "markdown",
   "metadata": {},
   "source": [
    "### Assignment\n",
    "### Simple calculator program\n",
    "    \n",
    "    "
   ]
  },
  {
   "cell_type": "code",
   "execution_count": 2,
   "metadata": {},
   "outputs": [
    {
     "name": "stdout",
     "output_type": "stream",
     "text": [
      "8.0\n"
     ]
    }
   ],
   "source": [
    "num1 = float(input(\"Enter first number: \"))\n",
    "num2 = float(input(\"Enter second number: \"))\n",
    "operation = input(\"Enter operation: \")\n",
    "\n",
    "if operation == \"+\":\n",
    "    print(num1 + num2)\n",
    "elif operation == \"-\":\n",
    "    print(num1 - num2)\n",
    "elif operation == \"*\":\n",
    "    print(num1 * num2)\n",
    "elif operation == \"/\":\n",
    "    print(num1 / num2)\n",
    "elif operation == \"%\":\n",
    "    print(num1 % num2)\n",
    "elif operation == \"**\":\n",
    "    print(num1 ** num2)\n",
    "elif operation == \"//\":\n",
    "    print(num1 // num2)\n",
    "else:\n",
    "    print(\"Invalid operation\")"
   ]
  }
 ],
 "metadata": {
  "kernelspec": {
   "display_name": "base",
   "language": "python",
   "name": "python3"
  },
  "language_info": {
   "codemirror_mode": {
    "name": "ipython",
    "version": 3
   },
   "file_extension": ".py",
   "mimetype": "text/x-python",
   "name": "python",
   "nbconvert_exporter": "python",
   "pygments_lexer": "ipython3",
   "version": "3.12.4"
  }
 },
 "nbformat": 4,
 "nbformat_minor": 2
}
