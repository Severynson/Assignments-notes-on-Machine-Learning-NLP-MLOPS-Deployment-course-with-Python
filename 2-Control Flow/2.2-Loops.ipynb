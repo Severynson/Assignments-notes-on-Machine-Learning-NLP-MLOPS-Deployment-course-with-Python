{
 "cells": [
  {
   "cell_type": "code",
   "execution_count": 6,
   "metadata": {},
   "outputs": [
    {
     "name": "stdout",
     "output_type": "stream",
     "text": [
      "0\n",
      "1\n",
      "2\n",
      "3\n",
      "4\n",
      "1\n",
      "2\n",
      "3\n",
      "4\n",
      "5\n",
      "6\n",
      "7\n",
      "8\n",
      "9\n",
      "1\n",
      "3\n",
      "5\n",
      "7\n",
      "9\n",
      "10\n",
      "9\n",
      "8\n",
      "7\n",
      "6\n",
      "5\n",
      "4\n",
      "3\n",
      "2\n",
      "1\n"
     ]
    }
   ],
   "source": [
    "for i in range(5):\n",
    "    print(i)\n",
    "\n",
    "for i in range(1, 10):\n",
    "    print(i)\n",
    "\n",
    "for i in range(1, 10, 2):\n",
    "    print(i)\n",
    "\n",
    "for i in range(10, 0, -1):\n",
    "    print(i)     "
   ]
  },
  {
   "cell_type": "markdown",
   "metadata": {},
   "source": [
    "### We can loop through a string, list, tuple, dictionary, set, etc."
   ]
  },
  {
   "cell_type": "code",
   "execution_count": 4,
   "metadata": {},
   "outputs": [
    {
     "name": "stdout",
     "output_type": "stream",
     "text": [
      "H\n",
      "e\n",
      "l\n",
      "l\n",
      "o\n",
      "1\n",
      "2\n",
      "3\n",
      "4\n",
      "5\n",
      "1\n",
      "2\n",
      "3\n",
      "4\n",
      "5\n",
      "a\n",
      "b\n",
      "c\n",
      "1\n",
      "2\n",
      "3\n",
      "4\n",
      "5\n",
      "1\n",
      "2\n",
      "3\n"
     ]
    }
   ],
   "source": [
    "for char in \"Hello\":\n",
    "    print(char)\n",
    "\n",
    "for el in [1, 2, 3, 4, 5]:\n",
    "    print(el)\n",
    "\n",
    "for el in (1, 2, 3, 4, 5):\n",
    "    print(el)\n",
    "\n",
    "for el in {\"a\": 1, \"b\": 2, \"c\": 3}:\n",
    "    print(el)\n",
    "\n",
    "for el in {1, 2, 3, 4, 5}:\n",
    "    print(el)\n",
    "\n",
    "for el in {\"a\": 1, \"b\": 2, \"c\": 3}.values():\n",
    "    print(el)"
   ]
  },
  {
   "cell_type": "markdown",
   "metadata": {},
   "source": [
    "### Usage of pass, continue, break in loops"
   ]
  },
  {
   "cell_type": "code",
   "execution_count": 23,
   "metadata": {},
   "outputs": [
    {
     "name": "stdout",
     "output_type": "stream",
     "text": [
      "0\n",
      "1\n",
      "2\n",
      "3\n",
      "4\n"
     ]
    }
   ],
   "source": [
    "# for i in range(10):\n",
    "#     if i%2==0:\n",
    "#         continue # Skips the rest of the code inside loop for current iteration and moves to the next iteration\n",
    "#     print(i)\n",
    "\n",
    "# for i in range(10):\n",
    "#     pass # Does nothing, just passes the control to the next iteration\n",
    "#     print(i)\n",
    "\n",
    "for i in range(10):\n",
    "    if i == 5:\n",
    "        break # Breaks the loop\n",
    "    print(i)\n",
    "    \n",
    "    \n"
   ]
  },
  {
   "cell_type": "markdown",
   "metadata": {},
   "source": [
    "### While:"
   ]
  },
  {
   "cell_type": "code",
   "execution_count": 24,
   "metadata": {},
   "outputs": [
    {
     "name": "stdout",
     "output_type": "stream",
     "text": [
      "Would be infinite loop without break\n",
      "3\n",
      "2\n",
      "1\n",
      "0\n",
      "1\n",
      "2\n",
      "3\n",
      "4\n",
      "5\n",
      "6\n",
      "7\n",
      "8\n",
      "9\n",
      "Sum of first 10 natural numbers is 55\n"
     ]
    }
   ],
   "source": [
    "while True:\n",
    "    print(\"Would be infinite loop without break\")\n",
    "    break\n",
    "\n",
    "nums = [1, 2, 3]\n",
    "while nums:\n",
    "    print(nums.pop())\n",
    "    \n",
    "\n",
    "i = 0\n",
    "while i < 10:\n",
    "    print(i)\n",
    "    i += 1\n",
    "\n",
    "\n",
    "# While is useful when we have a condition which would be \n",
    "# too convoluted to express with a for loop\n",
    "\n",
    "n=10\n",
    "sum=0\n",
    "count=1\n",
    "\n",
    "while count <= n:\n",
    "    sum += count\n",
    "    count += 1\n",
    "\n",
    "print(f\"Sum of first {n} natural numbers is {sum}\")\n",
    "\n"
   ]
  }
 ],
 "metadata": {
  "kernelspec": {
   "display_name": "base",
   "language": "python",
   "name": "python3"
  },
  "language_info": {
   "codemirror_mode": {
    "name": "ipython",
    "version": 3
   },
   "file_extension": ".py",
   "mimetype": "text/x-python",
   "name": "python",
   "nbconvert_exporter": "python",
   "pygments_lexer": "ipython3",
   "version": "3.12.4"
  }
 },
 "nbformat": 4,
 "nbformat_minor": 2
}
