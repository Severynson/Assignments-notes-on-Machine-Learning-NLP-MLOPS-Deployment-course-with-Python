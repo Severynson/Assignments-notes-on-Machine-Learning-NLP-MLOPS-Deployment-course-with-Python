{
 "cells": [
  {
   "cell_type": "markdown",
   "id": "964cf61d",
   "metadata": {},
   "source": [
    "# Module: SQLite3 Assignments\n",
    "## Lesson: SQLite3\n",
    "### Assignment 1: Creating and Connecting to a Database\n",
    "\n",
    "1. Write a Python function to create a new SQLite3 database named `test.db`.\n",
    "2. Write a Python function to create a table named `employees` with columns `id` (integer), `name` (text), `age` (integer), and `department` (text) in the `test.db` database.\n",
    "\n",
    "### Assignment 2: Inserting Data\n",
    "\n",
    "1. Write a Python function to insert a new employee into the `employees` table.\n",
    "2. Insert at least 5 different employees into the `employees` table.\n",
    "\n",
    "### Assignment 3: Querying Data\n",
    "\n",
    "1. Write a Python function to fetch and display all records from the `employees` table.\n",
    "2. Write a Python function to fetch and display all employees from a specific department.\n",
    "\n",
    "### Assignment 4: Updating Data\n",
    "\n",
    "1. Write a Python function to update the department of an employee based on their `id`.\n",
    "2. Update the department of at least 2 employees and display the updated records.\n",
    "\n",
    "### Assignment 5: Deleting Data\n",
    "\n",
    "1. Write a Python function to delete an employee from the `employees` table based on their `id`.\n",
    "2. Delete at least 1 employee and display the remaining records.\n",
    "\n",
    "### Assignment 6: Advanced Queries\n",
    "\n",
    "1. Write a Python function to fetch and display employees older than a certain age.\n",
    "2. Write a Python function to fetch and display employees whose names start with a specific letter.\n",
    "\n",
    "### Assignment 7: Handling Transactions\n",
    "\n",
    "1. Write a Python function to insert multiple employees into the `employees` table in a single transaction. Ensure that if any insertion fails, none of the insertions are committed.\n",
    "2. Write a Python function to update the age of multiple employees in a single transaction. Ensure that if any update fails, none of the updates are committed.\n",
    "\n",
    "### Assignment 8: Creating Relationships\n",
    "\n",
    "1. Create a new table named `departments` with columns `id` (integer) and `name` (text).\n",
    "2. Modify the `employees` table to include a foreign key referencing the `id` column in the `departments` table.\n",
    "3. Write a Python function to insert data into both the `departments` and `employees` tables, ensuring referential integrity.\n",
    "\n",
    "### Assignment 9: Indexing and Optimization\n",
    "\n",
    "1. Create an index on the `name` column of the `employees` table.\n",
    "2. Write a Python function to fetch and display all employees whose names start with a specific letter. Compare the performance with and without the index.\n",
    "\n",
    "### Assignment 10: Backing Up and Restoring Data\n",
    "\n",
    "1. Write a Python function to back up the `test.db` database to a file named `backup.db`.\n",
    "2. Write a Python function to restore the `test.db` database from the `backup.db` file."
   ]
  },
  {
   "cell_type": "code",
   "execution_count": 62,
   "metadata": {},
   "outputs": [],
   "source": [
    "import sqlite3"
   ]
  },
  {
   "cell_type": "markdown",
   "id": "666d8278",
   "metadata": {},
   "source": [
    "## Assignment 1"
   ]
  },
  {
   "cell_type": "code",
   "execution_count": 63,
   "id": "0bc16c02",
   "metadata": {},
   "outputs": [
    {
     "name": "stdout",
     "output_type": "stream",
     "text": [
      "Database created and connected successfully.\n"
     ]
    }
   ],
   "source": [
    "# 1\n",
    "def create_db():\n",
    "    connection = sqlite3.connect('text.db')\n",
    "    connection.close()\n",
    "    print(\"Database created and connected successfully.\")\n",
    "\n",
    "create_db()"
   ]
  },
  {
   "cell_type": "code",
   "execution_count": 64,
   "id": "34014d0c",
   "metadata": {},
   "outputs": [],
   "source": [
    "# 2\n",
    "def create_employee_table():\n",
    "    connection = sqlite3.connect('employees.db')\n",
    "    cursor = connection.cursor()\n",
    "    cursor.execute('''\n",
    "        CREATE TABLE IF NOT EXISTS employees (\n",
    "            id INTEGER PRIMARY KEY,\n",
    "            name TEXT,\n",
    "            age INTEGER,\n",
    "            department TEXT\n",
    "        )\n",
    "    ''')\n",
    "    connection.commit()\n",
    "    connection.close()\n",
    "\n",
    "create_employee_table()"
   ]
  },
  {
   "cell_type": "markdown",
   "id": "15c8e5f0",
   "metadata": {},
   "source": [
    "## Assignment 2"
   ]
  },
  {
   "cell_type": "code",
   "execution_count": 65,
   "id": "a40c260b",
   "metadata": {},
   "outputs": [
    {
     "name": "stdout",
     "output_type": "stream",
     "text": [
      "Employee inserted successfully\n"
     ]
    }
   ],
   "source": [
    "# 1\n",
    "def insert_employee(id, name, age, department):\n",
    "    connection = sqlite3.connect('employees.db')\n",
    "    cursor = connection.cursor()\n",
    "    cursor.execute(\"\"\"INSERT INTO employees\n",
    "                   (id,name,age,department)\n",
    "                   VALUES\n",
    "                   (?, ?, ?, ?)\n",
    "    \"\"\", (id, name, age, department))\n",
    "\n",
    "    connection.commit()\n",
    "    connection.close()\n",
    "    print(\"Employee inserted successfully\")\n",
    "\n",
    "insert_employee(1, \"Severyn\", 23, \"MachineLearning\")"
   ]
  },
  {
   "cell_type": "code",
   "execution_count": 66,
   "id": "0e46eecd",
   "metadata": {},
   "outputs": [
    {
     "name": "stdout",
     "output_type": "stream",
     "text": [
      "Employee inserted successfully\n",
      "Employee inserted successfully\n",
      "Employee inserted successfully\n",
      "Employee inserted successfully\n"
     ]
    }
   ],
   "source": [
    "# 2\n",
    "insert_employee(2, \"Sarah\", 35, \"HR\")\n",
    "insert_employee(3, \"Max\", 18, \"HR\")\n",
    "insert_employee(4, \"Eric\", 55, \"SoftwareEngineer\")\n",
    "insert_employee(5, \"Ann\", 21, \"SoftwareEngineer\")"
   ]
  },
  {
   "cell_type": "markdown",
   "id": "70aba18e",
   "metadata": {},
   "source": [
    "## Assignment 3"
   ]
  },
  {
   "cell_type": "code",
   "execution_count": 67,
   "id": "962fd971",
   "metadata": {},
   "outputs": [
    {
     "name": "stdout",
     "output_type": "stream",
     "text": [
      "(1, 'Severyn', 23, 'MachineLearning')\n",
      "(2, 'Sarah', 35, 'HR')\n",
      "(3, 'Max', 18, 'HR')\n",
      "(4, 'Eric', 55, 'SoftwareEngineer')\n",
      "(5, 'Ann', 21, 'SoftwareEngineer')\n"
     ]
    }
   ],
   "source": [
    "def fetch_n_disp_employees():\n",
    "    connection = sqlite3.connect('employees.db')\n",
    "    cursor = connection.cursor()\n",
    "\n",
    "    cursor.execute(\"SELECT * FROM employees\")\n",
    "    rows = cursor.fetchall()\n",
    "\n",
    "    for row in rows:\n",
    "        print(row)\n",
    "\n",
    "    connection.close()\n",
    "\n",
    "fetch_n_disp_employees()"
   ]
  },
  {
   "cell_type": "code",
   "execution_count": 68,
   "id": "2d090865",
   "metadata": {},
   "outputs": [
    {
     "name": "stdout",
     "output_type": "stream",
     "text": [
      "(1, 'Severyn', 23, 'MachineLearning')\n"
     ]
    }
   ],
   "source": [
    "# 2\n",
    "def select_all_employees_from_department(department):\n",
    "    connection = sqlite3.connect('employees.db')\n",
    "    cursor = connection.cursor()\n",
    "\n",
    "    cursor.execute(\"SELECT * FROM employees WHERE department = ?\", (department,))\n",
    "    rows = cursor.fetchall()\n",
    "\n",
    "    for row in rows:\n",
    "        print(row)\n",
    "\n",
    "    connection.close()\n",
    "\n",
    "select_all_employees_from_department(\"MachineLearning\")"
   ]
  },
  {
   "cell_type": "markdown",
   "id": "ee6d08ff",
   "metadata": {},
   "source": [
    "## Assignment 4"
   ]
  },
  {
   "cell_type": "code",
   "execution_count": 70,
   "id": "299478d7",
   "metadata": {},
   "outputs": [
    {
     "name": "stdout",
     "output_type": "stream",
     "text": [
      "Department updated successfully!\n",
      "(1, 'Severyn', 23, 'Marketing')\n"
     ]
    }
   ],
   "source": [
    "# 1\n",
    "def update_department(department, id):\n",
    "    connection = sqlite3.connect('employees.db')\n",
    "    cursor = connection.cursor()\n",
    "    cursor.execute(\n",
    "    \"\"\"\n",
    "    UPDATE employees\n",
    "        SET department = ?\n",
    "        WHERE id = ?\n",
    "    \"\"\",\n",
    "        (department, id),\n",
    "    )\n",
    "    connection.commit()\n",
    "    connection.close()\n",
    "    print(\"Department updated successfully!\")\n",
    "\n",
    "update_department(\"Marketing\", 1)\n",
    "select_all_employees_from_department(\"Marketing\")"
   ]
  },
  {
   "cell_type": "code",
   "execution_count": 71,
   "id": "2475a701",
   "metadata": {},
   "outputs": [
    {
     "name": "stdout",
     "output_type": "stream",
     "text": [
      "Department updated successfully!\n",
      "Department updated successfully!\n",
      "(1, 'Severyn', 23, 'Marketing')\n",
      "(2, 'Sarah', 35, 'Homeless')\n",
      "(3, 'Max', 18, 'Homeless')\n",
      "(4, 'Eric', 55, 'SoftwareEngineer')\n",
      "(5, 'Ann', 21, 'SoftwareEngineer')\n"
     ]
    }
   ],
   "source": [
    "# 2\n",
    "update_department(\"Homeless\", 2)\n",
    "update_department(\"Homeless\", 3)\n",
    "fetch_n_disp_employees()"
   ]
  },
  {
   "cell_type": "markdown",
   "id": "b77a68e8",
   "metadata": {},
   "source": [
    "## Assignment 5"
   ]
  },
  {
   "cell_type": "code",
   "execution_count": null,
   "id": "e4747da3",
   "metadata": {},
   "outputs": [
    {
     "name": "stdout",
     "output_type": "stream",
     "text": [
      "Employee deleted successfully.\n"
     ]
    }
   ],
   "source": [
    "# 1\n",
    "def delete_employee(id):\n",
    "    connection = sqlite3.connect('employees.db')\n",
    "    cursor = connection.cursor()\n",
    "    cursor.execute(\"DELETE FROM employees WHERE id = ?\", (id,))\n",
    "    connection.commit()\n",
    "    connection.close()\n",
    "    print(\"Employee deleted successfully.\")\n",
    "\n",
    "delete_employee(2)"
   ]
  },
  {
   "cell_type": "code",
   "execution_count": null,
   "id": "b81b3af3",
   "metadata": {},
   "outputs": [
    {
     "name": "stdout",
     "output_type": "stream",
     "text": [
      "Employee deleted successfully.\n",
      "(1, 'Severyn', 23, 'Marketing')\n",
      "(4, 'Eric', 55, 'SoftwareEngineer')\n",
      "(5, 'Ann', 21, 'SoftwareEngineer')\n"
     ]
    }
   ],
   "source": [
    "# 2\n",
    "delete_employee(3)\n",
    "fetch_n_disp_employees()"
   ]
  },
  {
   "cell_type": "markdown",
   "id": "ef7d5cf4",
   "metadata": {},
   "source": [
    "## Assignment 6"
   ]
  },
  {
   "cell_type": "code",
   "execution_count": null,
   "id": "1c935be2",
   "metadata": {},
   "outputs": [
    {
     "name": "stdout",
     "output_type": "stream",
     "text": [
      "(1, 'Severyn', 23, 'Marketing')\n",
      "(4, 'Eric', 55, 'SoftwareEngineer')\n"
     ]
    }
   ],
   "source": [
    "# 1\n",
    "employees_older_than_query = \"\"\"\n",
    "SELECT * FROM employees\n",
    "    WHERE age > ?\n",
    "\"\"\"\n",
    "\n",
    "def fetch_n_disp_employees_oler_than(age):\n",
    "    connection = sqlite3.connect(\"employees.db\")\n",
    "    cursor = connection.cursor()\n",
    "    cursor.execute(employees_older_than_query, (age,))\n",
    "    for employee in cursor.fetchall():\n",
    "        print(employee)\n",
    "    connection.commit()\n",
    "    connection.close()\n",
    "\n",
    "fetch_n_disp_employees_oler_than(21)"
   ]
  },
  {
   "cell_type": "code",
   "execution_count": 77,
   "id": "248535d2",
   "metadata": {},
   "outputs": [
    {
     "name": "stdout",
     "output_type": "stream",
     "text": [
      "(1, 'Severyn', 23, 'Marketing')\n"
     ]
    }
   ],
   "source": [
    "# 2\n",
    "employees_with_name_first_char = \"\"\"\n",
    "SELECT * FROM employees\n",
    "    WHERE name LIKE ?\n",
    "\"\"\"\n",
    "\n",
    "def fetch_n_disp_employees_with_name_first_char(char):\n",
    "    connection = sqlite3.connect(\"employees.db\")\n",
    "    cursor = connection.cursor()\n",
    "    cursor.execute(employees_with_name_first_char, (char + \"%\",))\n",
    "    for employee in cursor.fetchall():\n",
    "        print(employee)\n",
    "    connection.commit()\n",
    "    connection.close()\n",
    "\n",
    "fetch_n_disp_employees_with_name_first_char('S')"
   ]
  },
  {
   "cell_type": "markdown",
   "id": "2693fcfc",
   "metadata": {},
   "source": [
    "## Assignment 7"
   ]
  },
  {
   "cell_type": "code",
   "execution_count": null,
   "id": "e8956584",
   "metadata": {},
   "outputs": [
    {
     "name": "stdout",
     "output_type": "stream",
     "text": [
      "Multiple employees inserted successfully.\n"
     ]
    }
   ],
   "source": [
    "# 1\n",
    "def insert_multiple_employees(employees):\n",
    "    connection = sqlite3.connect('employees.db')\n",
    "    cursor = connection.cursor()\n",
    "    try:\n",
    "        cursor.executemany(\"INSERT INTO employees (id, name, age, department) VALUES (?, ?, ?, ?)\", employees)\n",
    "        connection.commit()\n",
    "        print(\"Multiple employees inserted successfully.\")\n",
    "    except sqlite3.Error as err:\n",
    "        connection.rollback()\n",
    "        print(\"Error inserting multiple employees:\", err)\n",
    "    finally:\n",
    "        connection.close()\n",
    "\n",
    "employees = [\n",
    "    (16, 'Ann', 15, 'Finance'),\n",
    "    (17, 'Helga', 22, 'Engineering'),\n",
    "    (18, 'Sue', 30, 'Marketing'),\n",
    "    (19, 'Marc', 33, 'Sales'),\n",
    "    (20, 'Peter', 41, 'HR')\n",
    "]\n",
    "insert_multiple_employees(employees)"
   ]
  },
  {
   "cell_type": "code",
   "execution_count": 83,
   "id": "7260254c",
   "metadata": {},
   "outputs": [
    {
     "name": "stdout",
     "output_type": "stream",
     "text": [
      "Multiple employees' age updated successfully.\n",
      "(1, 'Severyn', 23, 'Marketing')\n",
      "(4, 'Eric', 55, 'SoftwareEngineer')\n",
      "(5, 'Ann', 21, 'SoftwareEngineer')\n",
      "(16, 'Ann', 15, 'Finance')\n",
      "(17, 'Helga', 22, 'Engineering')\n",
      "(18, 'Sue', 30, 'Marketing')\n",
      "(19, 'Marc', 33, 'Sales')\n",
      "(20, 'Peter', 41, 'HR')\n"
     ]
    }
   ],
   "source": [
    "# 2\n",
    "def update_multiple_employees(employees):\n",
    "    connection = sqlite3.connect('employees.db')\n",
    "    cursor = connection.cursor()\n",
    "    try:\n",
    "        cursor.executemany(\"UPDATE employees SET age = ? WHERE id = ?\", employees)\n",
    "        connection.commit()\n",
    "        print(\"Multiple employees' age updated successfully.\")\n",
    "    except sqlite3.Error as err:\n",
    "        connection.rollback()\n",
    "        print(\"Error updating multiple employees' age:\", err)\n",
    "    finally:\n",
    "        connection.close()\n",
    "\n",
    "employees = [\n",
    "    (15, 16),\n",
    "    (22, 17),\n",
    "]\n",
    "update_multiple_employees(employees)\n",
    "fetch_n_disp_employees_oler_than(14)"
   ]
  },
  {
   "cell_type": "markdown",
   "id": "f04f9377",
   "metadata": {},
   "source": [
    "## Assignment 8"
   ]
  },
  {
   "cell_type": "code",
   "execution_count": 87,
   "id": "9f72834b",
   "metadata": {},
   "outputs": [
    {
     "name": "stdout",
     "output_type": "stream",
     "text": [
      "Departments table created successfully.\n"
     ]
    }
   ],
   "source": [
    "# 1\n",
    "def create_departments_table():\n",
    "    departments_table = \"\"\"\n",
    "    CREATE TABLE IF NOT EXISTS departments (\n",
    "        id INTEGER PRIMARY KEY,\n",
    "        name TEXT NOT NULL\n",
    "    )\n",
    "\"\"\"\n",
    "\n",
    "    connection = sqlite3.connect(\"departments.db\")\n",
    "    cursor = connection.cursor()\n",
    "    cursor.execute(departments_table)\n",
    "    connection.commit()\n",
    "    connection.close()\n",
    "    print(\"Departments table created successfully.\")\n",
    "\n",
    "create_departments_table()"
   ]
  },
  {
   "cell_type": "code",
   "execution_count": null,
   "id": "b1d50641",
   "metadata": {},
   "outputs": [],
   "source": [
    "# 2\n"
   ]
  },
  {
   "cell_type": "markdown",
   "id": "434452b6",
   "metadata": {},
   "source": [
    "## Assignment 9"
   ]
  },
  {
   "cell_type": "code",
   "execution_count": null,
   "id": "06ab722f",
   "metadata": {},
   "outputs": [],
   "source": []
  },
  {
   "cell_type": "markdown",
   "id": "17186650",
   "metadata": {},
   "source": [
    "## Assignment 10"
   ]
  },
  {
   "cell_type": "code",
   "execution_count": null,
   "id": "0d33d5c1",
   "metadata": {},
   "outputs": [],
   "source": []
  }
 ],
 "metadata": {
  "kernelspec": {
   "display_name": "Python 3",
   "language": "python",
   "name": "python3"
  },
  "language_info": {
   "codemirror_mode": {
    "name": "ipython",
    "version": 3
   },
   "file_extension": ".py",
   "mimetype": "text/x-python",
   "name": "python",
   "nbconvert_exporter": "python",
   "pygments_lexer": "ipython3",
   "version": "3.11.4"
  }
 },
 "nbformat": 4,
 "nbformat_minor": 5
}
